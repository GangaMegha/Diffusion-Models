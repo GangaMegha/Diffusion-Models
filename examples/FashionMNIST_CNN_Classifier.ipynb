{
  "nbformat": 4,
  "nbformat_minor": 0,
  "metadata": {
    "colab": {
      "provenance": []
    },
    "kernelspec": {
      "name": "python3",
      "display_name": "Python 3"
    },
    "language_info": {
      "name": "python"
    },
    "accelerator": "GPU",
    "gpuClass": "standard"
  },
  "cells": [
    {
      "cell_type": "markdown",
      "source": [
        "# CNN Classifier for FashionMNIST\n",
        "\n",
        "Ref: https://www.kaggle.com/code/pankajj/fashion-mnist-with-pytorch-93-accuracy/notebook\n",
        "\n",
        "Changed model architecture and training script"
      ],
      "metadata": {
        "id": "ORP6k5arTLsW"
      }
    },
    {
      "cell_type": "markdown",
      "source": [
        "### Import libraries"
      ],
      "metadata": {
        "id": "jLMwthEA3Jyi"
      }
    },
    {
      "cell_type": "code",
      "execution_count": null,
      "metadata": {
        "colab": {
          "base_uri": "https://localhost:8080/"
        },
        "id": "q0RMbmZ5C0Dq",
        "outputId": "5fc3db5f-6fc4-43c7-8912-ee189f751e2c"
      },
      "outputs": [
        {
          "output_type": "execute_result",
          "data": {
            "text/plain": [
              "<torch._C.Generator at 0x7f9e00234670>"
            ]
          },
          "metadata": {},
          "execution_count": 27
        }
      ],
      "source": [
        "import numpy as np\n",
        "import pandas as pd\n",
        "import matplotlib.pyplot as plt\n",
        "\n",
        "import torch\n",
        "import torch.nn as nn\n",
        "from torch.autograd import Variable\n",
        "\n",
        "import torchvision\n",
        "import torchvision.transforms as transforms\n",
        "from torch.utils.data import Dataset, DataLoader\n",
        "from sklearn.metrics import confusion_matrix\n",
        "\n",
        "torch.manual_seed(0)"
      ]
    },
    {
      "cell_type": "code",
      "source": [
        "device = torch.device(\"cuda:0\" if torch.cuda.is_available() else \"cpu\")"
      ],
      "metadata": {
        "id": "0Du00yPvDI5b"
      },
      "execution_count": null,
      "outputs": []
    },
    {
      "cell_type": "markdown",
      "source": [
        "### Load FashionMNIST data"
      ],
      "metadata": {
        "id": "UCZMeDMU3Nhc"
      }
    },
    {
      "cell_type": "code",
      "source": [
        "train_set = torchvision.datasets.FashionMNIST(\"./data\", download=True, transform=\n",
        "                                                transforms.Compose([transforms.ToTensor()]))\n",
        "test_set = torchvision.datasets.FashionMNIST(\"./data\", download=True, train=False, transform=\n",
        "                                               transforms.Compose([transforms.ToTensor()])) "
      ],
      "metadata": {
        "id": "fp290iToDK5j"
      },
      "execution_count": null,
      "outputs": []
    },
    {
      "cell_type": "code",
      "source": [
        "batch_size = 128"
      ],
      "metadata": {
        "id": "1p9cRqjOG1tF"
      },
      "execution_count": null,
      "outputs": []
    },
    {
      "cell_type": "code",
      "source": [
        "train_loader = torch.utils.data.DataLoader(train_set, \n",
        "                                           batch_size=batch_size)\n",
        "test_loader = torch.utils.data.DataLoader(test_set,\n",
        "                                          batch_size=batch_size)"
      ],
      "metadata": {
        "id": "A2SprJN5DZfL"
      },
      "execution_count": null,
      "outputs": []
    },
    {
      "cell_type": "code",
      "source": [
        "def output_label(label):\n",
        "    output_mapping = {\n",
        "                 0: \"T-shirt/Top\",\n",
        "                 1: \"Trouser\",\n",
        "                 2: \"Pullover\",\n",
        "                 3: \"Dress\",\n",
        "                 4: \"Coat\", \n",
        "                 5: \"Sandal\", \n",
        "                 6: \"Shirt\",\n",
        "                 7: \"Sneaker\",\n",
        "                 8: \"Bag\",\n",
        "                 9: \"Ankle Boot\"\n",
        "                 }\n",
        "    input = (label.item() if type(label) == torch.Tensor else label)\n",
        "    return output_mapping[input]"
      ],
      "metadata": {
        "id": "yNbLQWahDeoD"
      },
      "execution_count": null,
      "outputs": []
    },
    {
      "cell_type": "markdown",
      "source": [
        "### Model Architecture"
      ],
      "metadata": {
        "id": "91ns1ac_3Tcd"
      }
    },
    {
      "cell_type": "code",
      "source": [
        "class FashionCNN(nn.Module):\n",
        "    \n",
        "    def __init__(self):\n",
        "        super(FashionCNN, self).__init__()\n",
        "        \n",
        "        self.layer1 = nn.Sequential(\n",
        "            nn.Conv2d(in_channels=1, out_channels=32, kernel_size=3, padding=\"same\"),\n",
        "            nn.MaxPool2d(kernel_size=2, stride=2)\n",
        "        )\n",
        "        \n",
        "        self.layer2 = nn.Sequential(\n",
        "            nn.Conv2d(in_channels=32, out_channels=64, kernel_size=3, padding=\"same\"),\n",
        "            nn.MaxPool2d(2)\n",
        "        )\n",
        "        \n",
        "        self.fc1 = nn.Linear(in_features=64*7*7, out_features=128)\n",
        "        self.fc2 = nn.Linear(in_features=128, out_features=10)\n",
        "        \n",
        "    def forward(self, x):\n",
        "        out = self.layer1(x)\n",
        "        out = self.layer2(out)\n",
        "        out = out.view(out.size(0), -1)\n",
        "        out = nn.ReLU()(self.fc1(out))\n",
        "        out = nn.Softmax()(self.fc2(out))\n",
        "        \n",
        "        return out"
      ],
      "metadata": {
        "id": "oG_KM7BlDpch"
      },
      "execution_count": null,
      "outputs": []
    },
    {
      "cell_type": "code",
      "source": [
        "model = FashionCNN()\n",
        "model.to(device)\n",
        "\n",
        "error = nn.CrossEntropyLoss()\n",
        "\n",
        "learning_rate = 0.001\n",
        "optimizer = torch.optim.Adam(model.parameters(), lr=learning_rate)"
      ],
      "metadata": {
        "id": "VxYB6EqBDruY"
      },
      "execution_count": null,
      "outputs": []
    },
    {
      "cell_type": "code",
      "source": [
        "!pip install torchsummary\n",
        "\n",
        "from torchsummary import summary\n",
        "summary(model, (1, 28, 28))"
      ],
      "metadata": {
        "colab": {
          "base_uri": "https://localhost:8080/"
        },
        "id": "Q2hLRJVoHo7q",
        "outputId": "72635ec6-48df-4483-b841-57b4de212019"
      },
      "execution_count": null,
      "outputs": [
        {
          "output_type": "stream",
          "name": "stdout",
          "text": [
            "Looking in indexes: https://pypi.org/simple, https://us-python.pkg.dev/colab-wheels/public/simple/\n",
            "Requirement already satisfied: torchsummary in /usr/local/lib/python3.7/dist-packages (1.5.1)\n",
            "----------------------------------------------------------------\n",
            "        Layer (type)               Output Shape         Param #\n",
            "================================================================\n",
            "            Conv2d-1           [-1, 32, 28, 28]             320\n",
            "         MaxPool2d-2           [-1, 32, 14, 14]               0\n",
            "            Conv2d-3           [-1, 64, 14, 14]          18,496\n",
            "         MaxPool2d-4             [-1, 64, 7, 7]               0\n",
            "            Linear-5                  [-1, 128]         401,536\n",
            "            Linear-6                   [-1, 10]           1,290\n",
            "================================================================\n",
            "Total params: 421,642\n",
            "Trainable params: 421,642\n",
            "Non-trainable params: 0\n",
            "----------------------------------------------------------------\n",
            "Input size (MB): 0.00\n",
            "Forward/backward pass size (MB): 0.36\n",
            "Params size (MB): 1.61\n",
            "Estimated Total Size (MB): 1.97\n",
            "----------------------------------------------------------------\n"
          ]
        },
        {
          "output_type": "stream",
          "name": "stderr",
          "text": [
            "/usr/local/lib/python3.7/dist-packages/ipykernel_launcher.py:24: UserWarning: Implicit dimension choice for softmax has been deprecated. Change the call to include dim=X as an argument.\n"
          ]
        }
      ]
    },
    {
      "cell_type": "markdown",
      "source": [
        "### Train CNN Classifier"
      ],
      "metadata": {
        "id": "Bs-bsRBX3g5U"
      }
    },
    {
      "cell_type": "code",
      "source": [
        "num_epochs = 100\n",
        "# Lists for visualization of loss and accuracy \n",
        "loss_list = []\n",
        "\n",
        "# Lists for knowing classwise accuracy\n",
        "predictions_list = []\n",
        "labels_list = []\n",
        "\n",
        "for epoch in range(num_epochs):\n",
        "    loss_val = 0\n",
        "    for images, labels in train_loader:\n",
        "        # Transfering images and labels to GPU if available\n",
        "        images, labels = images.to(device), labels.to(device)\n",
        "        \n",
        "        # Forward pass \n",
        "        outputs = model(images)\n",
        "        loss = error(outputs, labels)\n",
        "        loss_val+=loss.item()\n",
        "        \n",
        "        # Initializing a gradient as 0 so there is no mixing of gradient among the batches\n",
        "        optimizer.zero_grad()\n",
        "        \n",
        "        #Propagating the error backward\n",
        "        loss.backward()\n",
        "        \n",
        "        # Optimizing the parameters\n",
        "        optimizer.step()\n",
        "    \n",
        "    loss_list.append(loss_val)\n",
        "    print(\"Epoch: {}, Loss: {} %\".format(epoch, loss_val))"
      ],
      "metadata": {
        "colab": {
          "base_uri": "https://localhost:8080/"
        },
        "id": "4OvSbZ6DDykI",
        "outputId": "f21524b8-96ea-45e7-e905-2c1c461f5515"
      },
      "execution_count": null,
      "outputs": [
        {
          "output_type": "stream",
          "name": "stderr",
          "text": [
            "/usr/local/lib/python3.7/dist-packages/ipykernel_launcher.py:24: UserWarning: Implicit dimension choice for softmax has been deprecated. Change the call to include dim=X as an argument.\n"
          ]
        },
        {
          "output_type": "stream",
          "name": "stdout",
          "text": [
            "Epoch: 0, Loss: 785.7340055704117 %\n",
            "Epoch: 1, Loss: 751.6245855093002 %\n",
            "Epoch: 2, Loss: 743.9825576543808 %\n",
            "Epoch: 3, Loss: 739.1557669639587 %\n",
            "Epoch: 4, Loss: 735.3152719736099 %\n",
            "Epoch: 5, Loss: 732.7057023048401 %\n",
            "Epoch: 6, Loss: 731.1125799417496 %\n",
            "Epoch: 7, Loss: 728.6171298027039 %\n",
            "Epoch: 8, Loss: 725.5252788066864 %\n",
            "Epoch: 9, Loss: 723.8625601530075 %\n",
            "Epoch: 10, Loss: 722.0530272722244 %\n",
            "Epoch: 11, Loss: 720.7332025766373 %\n",
            "Epoch: 12, Loss: 719.4616811275482 %\n",
            "Epoch: 13, Loss: 717.969154715538 %\n",
            "Epoch: 14, Loss: 717.123051404953 %\n",
            "Epoch: 15, Loss: 716.7387900352478 %\n",
            "Epoch: 16, Loss: 715.359743475914 %\n",
            "Epoch: 17, Loss: 714.6414570808411 %\n",
            "Epoch: 18, Loss: 713.7182596921921 %\n",
            "Epoch: 19, Loss: 712.8496819734573 %\n",
            "Epoch: 20, Loss: 712.4650930166245 %\n",
            "Epoch: 21, Loss: 710.681394815445 %\n",
            "Epoch: 22, Loss: 709.9500198364258 %\n",
            "Epoch: 23, Loss: 710.2802909612656 %\n",
            "Epoch: 24, Loss: 709.2224099636078 %\n",
            "Epoch: 25, Loss: 708.9546780586243 %\n",
            "Epoch: 26, Loss: 708.4299163818359 %\n",
            "Epoch: 27, Loss: 707.4361174106598 %\n",
            "Epoch: 28, Loss: 707.2581896781921 %\n",
            "Epoch: 29, Loss: 706.7115759849548 %\n",
            "Epoch: 30, Loss: 706.6079156398773 %\n",
            "Epoch: 31, Loss: 706.2297530174255 %\n",
            "Epoch: 32, Loss: 705.4503471851349 %\n",
            "Epoch: 33, Loss: 705.6077644824982 %\n",
            "Epoch: 34, Loss: 705.1363805532455 %\n",
            "Epoch: 35, Loss: 704.6633771657944 %\n",
            "Epoch: 36, Loss: 704.9570068120956 %\n",
            "Epoch: 37, Loss: 704.4693816900253 %\n",
            "Epoch: 38, Loss: 703.8529016971588 %\n",
            "Epoch: 39, Loss: 703.6304196119308 %\n",
            "Epoch: 40, Loss: 703.6153351068497 %\n",
            "Epoch: 41, Loss: 702.9472113847733 %\n",
            "Epoch: 42, Loss: 703.0174126625061 %\n",
            "Epoch: 43, Loss: 702.3319908380508 %\n",
            "Epoch: 44, Loss: 702.8225208520889 %\n",
            "Epoch: 45, Loss: 703.2624123096466 %\n",
            "Epoch: 46, Loss: 701.697095990181 %\n",
            "Epoch: 47, Loss: 701.7582844495773 %\n",
            "Epoch: 48, Loss: 701.5453770160675 %\n",
            "Epoch: 49, Loss: 701.3112081289291 %\n",
            "Epoch: 50, Loss: 701.4083395004272 %\n",
            "Epoch: 51, Loss: 701.4185448884964 %\n",
            "Epoch: 52, Loss: 700.9290647506714 %\n",
            "Epoch: 53, Loss: 700.6243218183517 %\n",
            "Epoch: 54, Loss: 700.4046548604965 %\n",
            "Epoch: 55, Loss: 700.3462735414505 %\n",
            "Epoch: 56, Loss: 700.654168009758 %\n",
            "Epoch: 57, Loss: 700.7713601589203 %\n",
            "Epoch: 58, Loss: 699.7862004041672 %\n",
            "Epoch: 59, Loss: 700.2346040010452 %\n",
            "Epoch: 60, Loss: 699.59070789814 %\n",
            "Epoch: 61, Loss: 699.7714239358902 %\n",
            "Epoch: 62, Loss: 700.163368344307 %\n",
            "Epoch: 63, Loss: 700.8320833444595 %\n",
            "Epoch: 64, Loss: 699.5405257940292 %\n",
            "Epoch: 65, Loss: 699.2419548034668 %\n",
            "Epoch: 66, Loss: 699.1335517168045 %\n",
            "Epoch: 67, Loss: 699.0967392921448 %\n",
            "Epoch: 68, Loss: 699.3255852460861 %\n",
            "Epoch: 69, Loss: 699.3053903579712 %\n",
            "Epoch: 70, Loss: 699.0460045337677 %\n",
            "Epoch: 71, Loss: 698.8109033107758 %\n",
            "Epoch: 72, Loss: 699.4338692426682 %\n",
            "Epoch: 73, Loss: 699.0568578243256 %\n",
            "Epoch: 74, Loss: 699.5272486209869 %\n",
            "Epoch: 75, Loss: 698.9954595565796 %\n",
            "Epoch: 76, Loss: 698.7099862098694 %\n",
            "Epoch: 77, Loss: 698.6874386072159 %\n",
            "Epoch: 78, Loss: 698.5465089082718 %\n",
            "Epoch: 79, Loss: 698.9660875797272 %\n",
            "Epoch: 80, Loss: 699.1493079662323 %\n",
            "Epoch: 81, Loss: 698.9249721765518 %\n",
            "Epoch: 82, Loss: 698.1717320680618 %\n",
            "Epoch: 83, Loss: 698.1705063581467 %\n",
            "Epoch: 84, Loss: 698.2196884155273 %\n",
            "Epoch: 85, Loss: 698.0573841333389 %\n",
            "Epoch: 86, Loss: 698.7695589065552 %\n",
            "Epoch: 87, Loss: 698.6030349731445 %\n",
            "Epoch: 88, Loss: 697.4387987852097 %\n",
            "Epoch: 89, Loss: 698.4016662836075 %\n",
            "Epoch: 90, Loss: 698.0628286600113 %\n",
            "Epoch: 91, Loss: 697.6529890298843 %\n",
            "Epoch: 92, Loss: 697.5200493335724 %\n",
            "Epoch: 93, Loss: 698.1058186292648 %\n",
            "Epoch: 94, Loss: 698.3706240653992 %\n",
            "Epoch: 95, Loss: 697.8745535612106 %\n",
            "Epoch: 96, Loss: 698.5156683921814 %\n",
            "Epoch: 97, Loss: 697.1019406318665 %\n",
            "Epoch: 98, Loss: 697.894486784935 %\n",
            "Epoch: 99, Loss: 697.341542840004 %\n"
          ]
        }
      ]
    },
    {
      "cell_type": "code",
      "source": [
        "plt.plot(np.arange(len(loss_list)), loss_list)\n",
        "plt.xlabel(\"epoch\")\n",
        "plt.ylabel(\"loss\")\n",
        "plt.title(\"Loss at each epoch\")\n",
        "plt.show()"
      ],
      "metadata": {
        "colab": {
          "base_uri": "https://localhost:8080/",
          "height": 295
        },
        "id": "f5SL0ZTID_26",
        "outputId": "55ad5292-7ccd-4086-ee62-6f736a39a69b"
      },
      "execution_count": null,
      "outputs": [
        {
          "output_type": "display_data",
          "data": {
            "text/plain": [
              "<Figure size 432x288 with 1 Axes>"
            ],
            "image/png": "[encoded data removed]"
          },
          "metadata": {
            "needs_background": "light"
          }
        }
      ]
    },
    {
      "cell_type": "markdown",
      "source": [
        "### Evaluate performance"
      ],
      "metadata": {
        "id": "Uck-eUq73lft"
      }
    },
    {
      "cell_type": "code",
      "source": [
        "class_correct = [0. for _ in range(10)]\n",
        "total_correct = [0. for _ in range(10)]\n",
        "\n",
        "with torch.no_grad():\n",
        "    for images, labels in test_loader:\n",
        "        images, labels = images.to(device), labels.to(device)\n",
        "        outputs = model(images)\n",
        "        predicted = torch.max(outputs, 1)[1]\n",
        "        c = (predicted == labels).squeeze()\n",
        "        for i in range(len(labels)):\n",
        "            label = labels[i]\n",
        "            class_correct[label] += c[i].item()\n",
        "            total_correct[label] += 1\n",
        "        \n",
        "for i in range(10):\n",
        "    print(\"Accuracy of {}: {:.2f}%\".format(output_label(i), class_correct[i] * 100 / total_correct[i]))"
      ],
      "metadata": {
        "colab": {
          "base_uri": "https://localhost:8080/"
        },
        "id": "T_83XL4CEFJM",
        "outputId": "e3b0ae31-7028-4602-dc78-a38b736d2ec6"
      },
      "execution_count": null,
      "outputs": [
        {
          "output_type": "stream",
          "name": "stderr",
          "text": [
            "/usr/local/lib/python3.7/dist-packages/ipykernel_launcher.py:24: UserWarning: Implicit dimension choice for softmax has been deprecated. Change the call to include dim=X as an argument.\n"
          ]
        },
        {
          "output_type": "stream",
          "name": "stdout",
          "text": [
            "Accuracy of T-shirt/Top: 87.90%\n",
            "Accuracy of Trouser: 97.90%\n",
            "Accuracy of Pullover: 80.00%\n",
            "Accuracy of Dress: 91.50%\n",
            "Accuracy of Coat: 88.80%\n",
            "Accuracy of Sandal: 96.90%\n",
            "Accuracy of Shirt: 76.00%\n",
            "Accuracy of Sneaker: 97.80%\n",
            "Accuracy of Bag: 97.70%\n",
            "Accuracy of Ankle Boot: 96.70%\n"
          ]
        }
      ]
    },
    {
      "cell_type": "code",
      "source": [
        "print(\"Accuracy : {:.2f}%\".format(np.sum(class_correct) * 100 / np.sum(total_correct)))"
      ],
      "metadata": {
        "colab": {
          "base_uri": "https://localhost:8080/"
        },
        "id": "EBuJpojMTXg0",
        "outputId": "5f82dfe8-e41e-4a04-a5ca-7b874200a487"
      },
      "execution_count": null,
      "outputs": [
        {
          "output_type": "stream",
          "name": "stdout",
          "text": [
            "Accuracy : 91.12%\n"
          ]
        }
      ]
    },
    {
      "cell_type": "markdown",
      "source": [
        "### Save model"
      ],
      "metadata": {
        "id": "dSQlLYan3oXj"
      }
    },
    {
      "cell_type": "code",
      "source": [
        "checkpoint = {\n",
        "    \"state_dict\": model.state_dict(),\n",
        "}\n",
        "torch.save(checkpoint, \"/content/drive/MyDrive/Colab Notebooks/DiffusionModels/fashion_mnist_CNNClassifier_91Acc.pt\")"
      ],
      "metadata": {
        "id": "XgEe_ksNE5jy"
      },
      "execution_count": null,
      "outputs": []
    },
    {
      "cell_type": "code",
      "source": [
        "# Sanity check\n",
        "checkpoint = torch.load(\"/content/drive/MyDrive/Colab Notebooks/DiffusionModels/fashion_mnist_CNNClassifier_91Acc.pt\")\n",
        "model2 = FashionCNN()\n",
        "model2.to(device)\n",
        "model2.load_state_dict(checkpoint['state_dict'])\n",
        "\n",
        "with torch.no_grad():\n",
        "    for images, labels in test_loader:\n",
        "        images, labels = images.to(device), labels.to(device)\n",
        "        outputs = model(images)\n",
        "        predicted = torch.max(outputs, 1)[1]\n",
        "        c = (predicted == labels).squeeze()\n",
        "        print(predicted, labels, c)\n",
        "        break"
      ],
      "metadata": {
        "id": "GeWZztlHM9JP",
        "colab": {
          "base_uri": "https://localhost:8080/"
        },
        "outputId": "bd4be6dc-f1e9-442a-a6a7-500722639cb3"
      },
      "execution_count": null,
      "outputs": [
        {
          "output_type": "stream",
          "name": "stdout",
          "text": [
            "tensor([9, 2, 1, 1, 6, 1, 4, 6, 5, 7, 4, 5, 7, 3, 4, 1, 2, 4, 8, 0, 2, 5, 7, 5,\n",
            "        1, 4, 6, 0, 9, 3, 8, 8, 3, 3, 8, 0, 7, 5, 7, 9, 0, 1, 6, 7, 6, 7, 2, 1,\n",
            "        2, 6, 4, 4, 5, 8, 2, 2, 8, 4, 8, 0, 7, 7, 8, 5, 1, 1, 2, 4, 7, 8, 7, 0,\n",
            "        2, 6, 4, 3, 1, 2, 8, 4, 1, 8, 5, 9, 5, 0, 3, 2, 0, 2, 5, 3, 6, 7, 1, 8,\n",
            "        0, 1, 4, 2, 3, 6, 7, 6, 7, 8, 5, 7, 9, 4, 2, 5, 7, 0, 5, 2, 8, 6, 7, 8,\n",
            "        0, 0, 7, 9, 3, 0, 8, 4], device='cuda:0') tensor([9, 2, 1, 1, 6, 1, 4, 6, 5, 7, 4, 5, 7, 3, 4, 1, 2, 4, 8, 0, 2, 5, 7, 9,\n",
            "        1, 4, 6, 0, 9, 3, 8, 8, 3, 3, 8, 0, 7, 5, 7, 9, 6, 1, 3, 7, 6, 7, 2, 1,\n",
            "        2, 2, 4, 4, 5, 8, 2, 2, 8, 4, 8, 0, 7, 7, 8, 5, 1, 1, 2, 3, 9, 8, 7, 0,\n",
            "        2, 6, 2, 3, 1, 2, 8, 4, 1, 8, 5, 9, 5, 0, 3, 2, 0, 6, 5, 3, 6, 7, 1, 8,\n",
            "        0, 1, 4, 2, 3, 6, 7, 2, 7, 8, 5, 9, 9, 4, 2, 5, 7, 0, 5, 2, 8, 6, 7, 8,\n",
            "        0, 0, 9, 9, 3, 0, 8, 4], device='cuda:0') tensor([ True,  True,  True,  True,  True,  True,  True,  True,  True,  True,\n",
            "         True,  True,  True,  True,  True,  True,  True,  True,  True,  True,\n",
            "         True,  True,  True, False,  True,  True,  True,  True,  True,  True,\n",
            "         True,  True,  True,  True,  True,  True,  True,  True,  True,  True,\n",
            "        False,  True, False,  True,  True,  True,  True,  True,  True, False,\n",
            "         True,  True,  True,  True,  True,  True,  True,  True,  True,  True,\n",
            "         True,  True,  True,  True,  True,  True,  True, False, False,  True,\n",
            "         True,  True,  True,  True, False,  True,  True,  True,  True,  True,\n",
            "         True,  True,  True,  True,  True,  True,  True,  True,  True, False,\n",
            "         True,  True,  True,  True,  True,  True,  True,  True,  True,  True,\n",
            "         True,  True,  True, False,  True,  True,  True, False,  True,  True,\n",
            "         True,  True,  True,  True,  True,  True,  True,  True,  True,  True,\n",
            "         True,  True, False,  True,  True,  True,  True,  True],\n",
            "       device='cuda:0')\n"
          ]
        },
        {
          "output_type": "stream",
          "name": "stderr",
          "text": [
            "/usr/local/lib/python3.7/dist-packages/ipykernel_launcher.py:24: UserWarning: Implicit dimension choice for softmax has been deprecated. Change the call to include dim=X as an argument.\n"
          ]
        }
      ]
    }
  ]
}