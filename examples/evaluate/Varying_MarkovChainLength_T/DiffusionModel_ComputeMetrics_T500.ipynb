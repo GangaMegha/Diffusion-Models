{
  "nbformat": 4,
  "nbformat_minor": 0,
  "metadata": {
    "colab": {
      "provenance": []
    },
    "kernelspec": {
      "name": "python3",
      "display_name": "Python 3"
    },
    "language_info": {
      "name": "python"
    },
    "accelerator": "GPU",
    "gpuClass": "standard",
    "widgets": {
      "application/vnd.jupyter.widget-state+json": {
        "f8d2d88128a041afae954f307c8621c0": {
          "model_module": "@jupyter-widgets/controls",
          "model_name": "HBoxModel",
          "model_module_version": "1.5.0",
          "state": {
            "_dom_classes": [],
            "_model_module": "@jupyter-widgets/controls",
            "_model_module_version": "1.5.0",
            "_model_name": "HBoxModel",
            "_view_count": null,
            "_view_module": "@jupyter-widgets/controls",
            "_view_module_version": "1.5.0",
            "_view_name": "HBoxView",
            "box_style": "",
            "children": [
              "IPY_MODEL_4a7e949e532d4895b9f7b1b12972ee1e",
              "IPY_MODEL_154e19b55e2b4ea98f89a572297f51b2",
              "IPY_MODEL_55ac5e8f9b26403aa0d45403cb948b8d"
            ],
            "layout": "IPY_MODEL_55f5c4866c214172b450fe216186a03b"
          }
        },
        "4a7e949e532d4895b9f7b1b12972ee1e": {
          "model_module": "@jupyter-widgets/controls",
          "model_name": "HTMLModel",
          "model_module_version": "1.5.0",
          "state": {
            "_dom_classes": [],
            "_model_module": "@jupyter-widgets/controls",
            "_model_module_version": "1.5.0",
            "_model_name": "HTMLModel",
            "_view_count": null,
            "_view_module": "@jupyter-widgets/controls",
            "_view_module_version": "1.5.0",
            "_view_name": "HTMLView",
            "description": "",
            "description_tooltip": null,
            "layout": "IPY_MODEL_a445165ced5d492ebff2115ed2fb30ff",
            "placeholder": "​",
            "style": "IPY_MODEL_1804648753b348a7a0ceefe75d5f7a5f",
            "value": "100%"
          }
        },
        "154e19b55e2b4ea98f89a572297f51b2": {
          "model_module": "@jupyter-widgets/controls",
          "model_name": "FloatProgressModel",
          "model_module_version": "1.5.0",
          "state": {
            "_dom_classes": [],
            "_model_module": "@jupyter-widgets/controls",
            "_model_module_version": "1.5.0",
            "_model_name": "FloatProgressModel",
            "_view_count": null,
            "_view_module": "@jupyter-widgets/controls",
            "_view_module_version": "1.5.0",
            "_view_name": "ProgressView",
            "bar_style": "success",
            "description": "",
            "description_tooltip": null,
            "layout": "IPY_MODEL_8c7ba7504a9748279ab16b07a4e1b71f",
            "max": 95628359,
            "min": 0,
            "orientation": "horizontal",
            "style": "IPY_MODEL_30735dbcfc3f4be0ac1a7974a71bd13d",
            "value": 95628359
          }
        },
        "55ac5e8f9b26403aa0d45403cb948b8d": {
          "model_module": "@jupyter-widgets/controls",
          "model_name": "HTMLModel",
          "model_module_version": "1.5.0",
          "state": {
            "_dom_classes": [],
            "_model_module": "@jupyter-widgets/controls",
            "_model_module_version": "1.5.0",
            "_model_name": "HTMLModel",
            "_view_count": null,
            "_view_module": "@jupyter-widgets/controls",
            "_view_module_version": "1.5.0",
            "_view_name": "HTMLView",
            "description": "",
            "description_tooltip": null,
            "layout": "IPY_MODEL_37a712b15db24c329ae6420ec7ea0651",
            "placeholder": "​",
            "style": "IPY_MODEL_211f09f0b1d448938557dd7af599d06f",
            "value": " 91.2M/91.2M [00:01&lt;00:00, 70.9MB/s]"
          }
        },
        "55f5c4866c214172b450fe216186a03b": {
          "model_module": "@jupyter-widgets/base",
          "model_name": "LayoutModel",
          "model_module_version": "1.2.0",
          "state": {
            "_model_module": "@jupyter-widgets/base",
            "_model_module_version": "1.2.0",
            "_model_name": "LayoutModel",
            "_view_count": null,
            "_view_module": "@jupyter-widgets/base",
            "_view_module_version": "1.2.0",
            "_view_name": "LayoutView",
            "align_content": null,
            "align_items": null,
            "align_self": null,
            "border": null,
            "bottom": null,
            "display": null,
            "flex": null,
            "flex_flow": null,
            "grid_area": null,
            "grid_auto_columns": null,
            "grid_auto_flow": null,
            "grid_auto_rows": null,
            "grid_column": null,
            "grid_gap": null,
            "grid_row": null,
            "grid_template_areas": null,
            "grid_template_columns": null,
            "grid_template_rows": null,
            "height": null,
            "justify_content": null,
            "justify_items": null,
            "left": null,
            "margin": null,
            "max_height": null,
            "max_width": null,
            "min_height": null,
            "min_width": null,
            "object_fit": null,
            "object_position": null,
            "order": null,
            "overflow": null,
            "overflow_x": null,
            "overflow_y": null,
            "padding": null,
            "right": null,
            "top": null,
            "visibility": null,
            "width": null
          }
        },
        "a445165ced5d492ebff2115ed2fb30ff": {
          "model_module": "@jupyter-widgets/base",
          "model_name": "LayoutModel",
          "model_module_version": "1.2.0",
          "state": {
            "_model_module": "@jupyter-widgets/base",
            "_model_module_version": "1.2.0",
            "_model_name": "LayoutModel",
            "_view_count": null,
            "_view_module": "@jupyter-widgets/base",
            "_view_module_version": "1.2.0",
            "_view_name": "LayoutView",
            "align_content": null,
            "align_items": null,
            "align_self": null,
            "border": null,
            "bottom": null,
            "display": null,
            "flex": null,
            "flex_flow": null,
            "grid_area": null,
            "grid_auto_columns": null,
            "grid_auto_flow": null,
            "grid_auto_rows": null,
            "grid_column": null,
            "grid_gap": null,
            "grid_row": null,
            "grid_template_areas": null,
            "grid_template_columns": null,
            "grid_template_rows": null,
            "height": null,
            "justify_content": null,
            "justify_items": null,
            "left": null,
            "margin": null,
            "max_height": null,
            "max_width": null,
            "min_height": null,
            "min_width": null,
            "object_fit": null,
            "object_position": null,
            "order": null,
            "overflow": null,
            "overflow_x": null,
            "overflow_y": null,
            "padding": null,
            "right": null,
            "top": null,
            "visibility": null,
            "width": null
          }
        },
        "1804648753b348a7a0ceefe75d5f7a5f": {
          "model_module": "@jupyter-widgets/controls",
          "model_name": "DescriptionStyleModel",
          "model_module_version": "1.5.0",
          "state": {
            "_model_module": "@jupyter-widgets/controls",
            "_model_module_version": "1.5.0",
            "_model_name": "DescriptionStyleModel",
            "_view_count": null,
            "_view_module": "@jupyter-widgets/base",
            "_view_module_version": "1.2.0",
            "_view_name": "StyleView",
            "description_width": ""
          }
        },
        "8c7ba7504a9748279ab16b07a4e1b71f": {
          "model_module": "@jupyter-widgets/base",
          "model_name": "LayoutModel",
          "model_module_version": "1.2.0",
          "state": {
            "_model_module": "@jupyter-widgets/base",
            "_model_module_version": "1.2.0",
            "_model_name": "LayoutModel",
            "_view_count": null,
            "_view_module": "@jupyter-widgets/base",
            "_view_module_version": "1.2.0",
            "_view_name": "LayoutView",
            "align_content": null,
            "align_items": null,
            "align_self": null,
            "border": null,
            "bottom": null,
            "display": null,
            "flex": null,
            "flex_flow": null,
            "grid_area": null,
            "grid_auto_columns": null,
            "grid_auto_flow": null,
            "grid_auto_rows": null,
            "grid_column": null,
            "grid_gap": null,
            "grid_row": null,
            "grid_template_areas": null,
            "grid_template_columns": null,
            "grid_template_rows": null,
            "height": null,
            "justify_content": null,
            "justify_items": null,
            "left": null,
            "margin": null,
            "max_height": null,
            "max_width": null,
            "min_height": null,
            "min_width": null,
            "object_fit": null,
            "object_position": null,
            "order": null,
            "overflow": null,
            "overflow_x": null,
            "overflow_y": null,
            "padding": null,
            "right": null,
            "top": null,
            "visibility": null,
            "width": null
          }
        },
        "30735dbcfc3f4be0ac1a7974a71bd13d": {
          "model_module": "@jupyter-widgets/controls",
          "model_name": "ProgressStyleModel",
          "model_module_version": "1.5.0",
          "state": {
            "_model_module": "@jupyter-widgets/controls",
            "_model_module_version": "1.5.0",
            "_model_name": "ProgressStyleModel",
            "_view_count": null,
            "_view_module": "@jupyter-widgets/base",
            "_view_module_version": "1.2.0",
            "_view_name": "StyleView",
            "bar_color": null,
            "description_width": ""
          }
        },
        "37a712b15db24c329ae6420ec7ea0651": {
          "model_module": "@jupyter-widgets/base",
          "model_name": "LayoutModel",
          "model_module_version": "1.2.0",
          "state": {
            "_model_module": "@jupyter-widgets/base",
            "_model_module_version": "1.2.0",
            "_model_name": "LayoutModel",
            "_view_count": null,
            "_view_module": "@jupyter-widgets/base",
            "_view_module_version": "1.2.0",
            "_view_name": "LayoutView",
            "align_content": null,
            "align_items": null,
            "align_self": null,
            "border": null,
            "bottom": null,
            "display": null,
            "flex": null,
            "flex_flow": null,
            "grid_area": null,
            "grid_auto_columns": null,
            "grid_auto_flow": null,
            "grid_auto_rows": null,
            "grid_column": null,
            "grid_gap": null,
            "grid_row": null,
            "grid_template_areas": null,
            "grid_template_columns": null,
            "grid_template_rows": null,
            "height": null,
            "justify_content": null,
            "justify_items": null,
            "left": null,
            "margin": null,
            "max_height": null,
            "max_width": null,
            "min_height": null,
            "min_width": null,
            "object_fit": null,
            "object_position": null,
            "order": null,
            "overflow": null,
            "overflow_x": null,
            "overflow_y": null,
            "padding": null,
            "right": null,
            "top": null,
            "visibility": null,
            "width": null
          }
        },
        "211f09f0b1d448938557dd7af599d06f": {
          "model_module": "@jupyter-widgets/controls",
          "model_name": "DescriptionStyleModel",
          "model_module_version": "1.5.0",
          "state": {
            "_model_module": "@jupyter-widgets/controls",
            "_model_module_version": "1.5.0",
            "_model_name": "DescriptionStyleModel",
            "_view_count": null,
            "_view_module": "@jupyter-widgets/base",
            "_view_module_version": "1.2.0",
            "_view_name": "StyleView",
            "description_width": ""
          }
        },
        "b43b4bf0d35a4b7c8c8a2800216fd435": {
          "model_module": "@jupyter-widgets/controls",
          "model_name": "HBoxModel",
          "model_module_version": "1.5.0",
          "state": {
            "_dom_classes": [],
            "_model_module": "@jupyter-widgets/controls",
            "_model_module_version": "1.5.0",
            "_model_name": "HBoxModel",
            "_view_count": null,
            "_view_module": "@jupyter-widgets/controls",
            "_view_module_version": "1.5.0",
            "_view_name": "HBoxView",
            "box_style": "",
            "children": [
              "IPY_MODEL_5fc14cec4db44483be55e3c487abc36c",
              "IPY_MODEL_94dd6c338ba64b6097ea30a132cd9431",
              "IPY_MODEL_e7b3f6653c64442da0be33508da28b2d"
            ],
            "layout": "IPY_MODEL_e178cee2309045b1bb8cad38fc130d42"
          }
        },
        "5fc14cec4db44483be55e3c487abc36c": {
          "model_module": "@jupyter-widgets/controls",
          "model_name": "HTMLModel",
          "model_module_version": "1.5.0",
          "state": {
            "_dom_classes": [],
            "_model_module": "@jupyter-widgets/controls",
            "_model_module_version": "1.5.0",
            "_model_name": "HTMLModel",
            "_view_count": null,
            "_view_module": "@jupyter-widgets/controls",
            "_view_module_version": "1.5.0",
            "_view_name": "HTMLView",
            "description": "",
            "description_tooltip": null,
            "layout": "IPY_MODEL_b3c3a50ae03d4a8c9b351f4c67af3ad0",
            "placeholder": "​",
            "style": "IPY_MODEL_27aec7559b7748969dff90702de062ff",
            "value": "sampling loop time step: 100%"
          }
        },
        "94dd6c338ba64b6097ea30a132cd9431": {
          "model_module": "@jupyter-widgets/controls",
          "model_name": "FloatProgressModel",
          "model_module_version": "1.5.0",
          "state": {
            "_dom_classes": [],
            "_model_module": "@jupyter-widgets/controls",
            "_model_module_version": "1.5.0",
            "_model_name": "FloatProgressModel",
            "_view_count": null,
            "_view_module": "@jupyter-widgets/controls",
            "_view_module_version": "1.5.0",
            "_view_name": "ProgressView",
            "bar_style": "success",
            "description": "",
            "description_tooltip": null,
            "layout": "IPY_MODEL_5aa2738bdb264b50bddbf42f2853f4d4",
            "max": 500,
            "min": 0,
            "orientation": "horizontal",
            "style": "IPY_MODEL_800d041fcaba4222bf79221f5a037d67",
            "value": 500
          }
        },
        "e7b3f6653c64442da0be33508da28b2d": {
          "model_module": "@jupyter-widgets/controls",
          "model_name": "HTMLModel",
          "model_module_version": "1.5.0",
          "state": {
            "_dom_classes": [],
            "_model_module": "@jupyter-widgets/controls",
            "_model_module_version": "1.5.0",
            "_model_name": "HTMLModel",
            "_view_count": null,
            "_view_module": "@jupyter-widgets/controls",
            "_view_module_version": "1.5.0",
            "_view_name": "HTMLView",
            "description": "",
            "description_tooltip": null,
            "layout": "IPY_MODEL_dbd8fae23d9f49c9a4b4e4a362f20956",
            "placeholder": "​",
            "style": "IPY_MODEL_ac8897299353458caab419370e908289",
            "value": " 500/500 [00:06&lt;00:00, 73.97it/s]"
          }
        },
        "e178cee2309045b1bb8cad38fc130d42": {
          "model_module": "@jupyter-widgets/base",
          "model_name": "LayoutModel",
          "model_module_version": "1.2.0",
          "state": {
            "_model_module": "@jupyter-widgets/base",
            "_model_module_version": "1.2.0",
            "_model_name": "LayoutModel",
            "_view_count": null,
            "_view_module": "@jupyter-widgets/base",
            "_view_module_version": "1.2.0",
            "_view_name": "LayoutView",
            "align_content": null,
            "align_items": null,
            "align_self": null,
            "border": null,
            "bottom": null,
            "display": null,
            "flex": null,
            "flex_flow": null,
            "grid_area": null,
            "grid_auto_columns": null,
            "grid_auto_flow": null,
            "grid_auto_rows": null,
            "grid_column": null,
            "grid_gap": null,
            "grid_row": null,
            "grid_template_areas": null,
            "grid_template_columns": null,
            "grid_template_rows": null,
            "height": null,
            "justify_content": null,
            "justify_items": null,
            "left": null,
            "margin": null,
            "max_height": null,
            "max_width": null,
            "min_height": null,
            "min_width": null,
            "object_fit": null,
            "object_position": null,
            "order": null,
            "overflow": null,
            "overflow_x": null,
            "overflow_y": null,
            "padding": null,
            "right": null,
            "top": null,
            "visibility": null,
            "width": null
          }
        },
        "b3c3a50ae03d4a8c9b351f4c67af3ad0": {
          "model_module": "@jupyter-widgets/base",
          "model_name": "LayoutModel",
          "model_module_version": "1.2.0",
          "state": {
            "_model_module": "@jupyter-widgets/base",
            "_model_module_version": "1.2.0",
            "_model_name": "LayoutModel",
            "_view_count": null,
            "_view_module": "@jupyter-widgets/base",
            "_view_module_version": "1.2.0",
            "_view_name": "LayoutView",
            "align_content": null,
            "align_items": null,
            "align_self": null,
            "border": null,
            "bottom": null,
            "display": null,
            "flex": null,
            "flex_flow": null,
            "grid_area": null,
            "grid_auto_columns": null,
            "grid_auto_flow": null,
            "grid_auto_rows": null,
            "grid_column": null,
            "grid_gap": null,
            "grid_row": null,
            "grid_template_areas": null,
            "grid_template_columns": null,
            "grid_template_rows": null,
            "height": null,
            "justify_content": null,
            "justify_items": null,
            "left": null,
            "margin": null,
            "max_height": null,
            "max_width": null,
            "min_height": null,
            "min_width": null,
            "object_fit": null,
            "object_position": null,
            "order": null,
            "overflow": null,
            "overflow_x": null,
            "overflow_y": null,
            "padding": null,
            "right": null,
            "top": null,
            "visibility": null,
            "width": null
          }
        },
        "27aec7559b7748969dff90702de062ff": {
          "model_module": "@jupyter-widgets/controls",
          "model_name": "DescriptionStyleModel",
          "model_module_version": "1.5.0",
          "state": {
            "_model_module": "@jupyter-widgets/controls",
            "_model_module_version": "1.5.0",
            "_model_name": "DescriptionStyleModel",
            "_view_count": null,
            "_view_module": "@jupyter-widgets/base",
            "_view_module_version": "1.2.0",
            "_view_name": "StyleView",
            "description_width": ""
          }
        },
        "5aa2738bdb264b50bddbf42f2853f4d4": {
          "model_module": "@jupyter-widgets/base",
          "model_name": "LayoutModel",
          "model_module_version": "1.2.0",
          "state": {
            "_model_module": "@jupyter-widgets/base",
            "_model_module_version": "1.2.0",
            "_model_name": "LayoutModel",
            "_view_count": null,
            "_view_module": "@jupyter-widgets/base",
            "_view_module_version": "1.2.0",
            "_view_name": "LayoutView",
            "align_content": null,
            "align_items": null,
            "align_self": null,
            "border": null,
            "bottom": null,
            "display": null,
            "flex": null,
            "flex_flow": null,
            "grid_area": null,
            "grid_auto_columns": null,
            "grid_auto_flow": null,
            "grid_auto_rows": null,
            "grid_column": null,
            "grid_gap": null,
            "grid_row": null,
            "grid_template_areas": null,
            "grid_template_columns": null,
            "grid_template_rows": null,
            "height": null,
            "justify_content": null,
            "justify_items": null,
            "left": null,
            "margin": null,
            "max_height": null,
            "max_width": null,
            "min_height": null,
            "min_width": null,
            "object_fit": null,
            "object_position": null,
            "order": null,
            "overflow": null,
            "overflow_x": null,
            "overflow_y": null,
            "padding": null,
            "right": null,
            "top": null,
            "visibility": null,
            "width": null
          }
        },
        "800d041fcaba4222bf79221f5a037d67": {
          "model_module": "@jupyter-widgets/controls",
          "model_name": "ProgressStyleModel",
          "model_module_version": "1.5.0",
          "state": {
            "_model_module": "@jupyter-widgets/controls",
            "_model_module_version": "1.5.0",
            "_model_name": "ProgressStyleModel",
            "_view_count": null,
            "_view_module": "@jupyter-widgets/base",
            "_view_module_version": "1.2.0",
            "_view_name": "StyleView",
            "bar_color": null,
            "description_width": ""
          }
        },
        "dbd8fae23d9f49c9a4b4e4a362f20956": {
          "model_module": "@jupyter-widgets/base",
          "model_name": "LayoutModel",
          "model_module_version": "1.2.0",
          "state": {
            "_model_module": "@jupyter-widgets/base",
            "_model_module_version": "1.2.0",
            "_model_name": "LayoutModel",
            "_view_count": null,
            "_view_module": "@jupyter-widgets/base",
            "_view_module_version": "1.2.0",
            "_view_name": "LayoutView",
            "align_content": null,
            "align_items": null,
            "align_self": null,
            "border": null,
            "bottom": null,
            "display": null,
            "flex": null,
            "flex_flow": null,
            "grid_area": null,
            "grid_auto_columns": null,
            "grid_auto_flow": null,
            "grid_auto_rows": null,
            "grid_column": null,
            "grid_gap": null,
            "grid_row": null,
            "grid_template_areas": null,
            "grid_template_columns": null,
            "grid_template_rows": null,
            "height": null,
            "justify_content": null,
            "justify_items": null,
            "left": null,
            "margin": null,
            "max_height": null,
            "max_width": null,
            "min_height": null,
            "min_width": null,
            "object_fit": null,
            "object_position": null,
            "order": null,
            "overflow": null,
            "overflow_x": null,
            "overflow_y": null,
            "padding": null,
            "right": null,
            "top": null,
            "visibility": null,
            "width": null
          }
        },
        "ac8897299353458caab419370e908289": {
          "model_module": "@jupyter-widgets/controls",
          "model_name": "DescriptionStyleModel",
          "model_module_version": "1.5.0",
          "state": {
            "_model_module": "@jupyter-widgets/controls",
            "_model_module_version": "1.5.0",
            "_model_name": "DescriptionStyleModel",
            "_view_count": null,
            "_view_module": "@jupyter-widgets/base",
            "_view_module_version": "1.2.0",
            "_view_name": "StyleView",
            "description_width": ""
          }
        },
        "ad9bb34211854d99bd87225cfe99939c": {
          "model_module": "@jupyter-widgets/controls",
          "model_name": "HBoxModel",
          "model_module_version": "1.5.0",
          "state": {
            "_dom_classes": [],
            "_model_module": "@jupyter-widgets/controls",
            "_model_module_version": "1.5.0",
            "_model_name": "HBoxModel",
            "_view_count": null,
            "_view_module": "@jupyter-widgets/controls",
            "_view_module_version": "1.5.0",
            "_view_name": "HBoxView",
            "box_style": "",
            "children": [
              "IPY_MODEL_d75285a0bdf24c9ebd50162df3304479",
              "IPY_MODEL_1cb756adafa04622af430bb13f7b97d6",
              "IPY_MODEL_db9e03a0ecf341a98cb37e5f3551a2a4"
            ],
            "layout": "IPY_MODEL_49bca2d3df12441bb16914dc0f2cf97e"
          }
        },
        "d75285a0bdf24c9ebd50162df3304479": {
          "model_module": "@jupyter-widgets/controls",
          "model_name": "HTMLModel",
          "model_module_version": "1.5.0",
          "state": {
            "_dom_classes": [],
            "_model_module": "@jupyter-widgets/controls",
            "_model_module_version": "1.5.0",
            "_model_name": "HTMLModel",
            "_view_count": null,
            "_view_module": "@jupyter-widgets/controls",
            "_view_module_version": "1.5.0",
            "_view_name": "HTMLView",
            "description": "",
            "description_tooltip": null,
            "layout": "IPY_MODEL_4c0c4bb0ba4f45508397d03d9f2be38d",
            "placeholder": "​",
            "style": "IPY_MODEL_b336c5f637954b149b8b802976cd0872",
            "value": "sampling loop time step: 100%"
          }
        },
        "1cb756adafa04622af430bb13f7b97d6": {
          "model_module": "@jupyter-widgets/controls",
          "model_name": "FloatProgressModel",
          "model_module_version": "1.5.0",
          "state": {
            "_dom_classes": [],
            "_model_module": "@jupyter-widgets/controls",
            "_model_module_version": "1.5.0",
            "_model_name": "FloatProgressModel",
            "_view_count": null,
            "_view_module": "@jupyter-widgets/controls",
            "_view_module_version": "1.5.0",
            "_view_name": "ProgressView",
            "bar_style": "success",
            "description": "",
            "description_tooltip": null,
            "layout": "IPY_MODEL_1d88c5b635734eda990c7582b1c86977",
            "max": 500,
            "min": 0,
            "orientation": "horizontal",
            "style": "IPY_MODEL_b208081bf25940cf822d0935d95df8e2",
            "value": 500
          }
        },
        "db9e03a0ecf341a98cb37e5f3551a2a4": {
          "model_module": "@jupyter-widgets/controls",
          "model_name": "HTMLModel",
          "model_module_version": "1.5.0",
          "state": {
            "_dom_classes": [],
            "_model_module": "@jupyter-widgets/controls",
            "_model_module_version": "1.5.0",
            "_model_name": "HTMLModel",
            "_view_count": null,
            "_view_module": "@jupyter-widgets/controls",
            "_view_module_version": "1.5.0",
            "_view_name": "HTMLView",
            "description": "",
            "description_tooltip": null,
            "layout": "IPY_MODEL_4f146777c58d419ab7be414924f5eff6",
            "placeholder": "​",
            "style": "IPY_MODEL_dec30464b4ab4eab82f964edab946997",
            "value": " 500/500 [00:07&lt;00:00, 77.56it/s]"
          }
        },
        "49bca2d3df12441bb16914dc0f2cf97e": {
          "model_module": "@jupyter-widgets/base",
          "model_name": "LayoutModel",
          "model_module_version": "1.2.0",
          "state": {
            "_model_module": "@jupyter-widgets/base",
            "_model_module_version": "1.2.0",
            "_model_name": "LayoutModel",
            "_view_count": null,
            "_view_module": "@jupyter-widgets/base",
            "_view_module_version": "1.2.0",
            "_view_name": "LayoutView",
            "align_content": null,
            "align_items": null,
            "align_self": null,
            "border": null,
            "bottom": null,
            "display": null,
            "flex": null,
            "flex_flow": null,
            "grid_area": null,
            "grid_auto_columns": null,
            "grid_auto_flow": null,
            "grid_auto_rows": null,
            "grid_column": null,
            "grid_gap": null,
            "grid_row": null,
            "grid_template_areas": null,
            "grid_template_columns": null,
            "grid_template_rows": null,
            "height": null,
            "justify_content": null,
            "justify_items": null,
            "left": null,
            "margin": null,
            "max_height": null,
            "max_width": null,
            "min_height": null,
            "min_width": null,
            "object_fit": null,
            "object_position": null,
            "order": null,
            "overflow": null,
            "overflow_x": null,
            "overflow_y": null,
            "padding": null,
            "right": null,
            "top": null,
            "visibility": null,
            "width": null
          }
        },
        "4c0c4bb0ba4f45508397d03d9f2be38d": {
          "model_module": "@jupyter-widgets/base",
          "model_name": "LayoutModel",
          "model_module_version": "1.2.0",
          "state": {
            "_model_module": "@jupyter-widgets/base",
            "_model_module_version": "1.2.0",
            "_model_name": "LayoutModel",
            "_view_count": null,
            "_view_module": "@jupyter-widgets/base",
            "_view_module_version": "1.2.0",
            "_view_name": "LayoutView",
            "align_content": null,
            "align_items": null,
            "align_self": null,
            "border": null,
            "bottom": null,
            "display": null,
            "flex": null,
            "flex_flow": null,
            "grid_area": null,
            "grid_auto_columns": null,
            "grid_auto_flow": null,
            "grid_auto_rows": null,
            "grid_column": null,
            "grid_gap": null,
            "grid_row": null,
            "grid_template_areas": null,
            "grid_template_columns": null,
            "grid_template_rows": null,
            "height": null,
            "justify_content": null,
            "justify_items": null,
            "left": null,
            "margin": null,
            "max_height": null,
            "max_width": null,
            "min_height": null,
            "min_width": null,
            "object_fit": null,
            "object_position": null,
            "order": null,
            "overflow": null,
            "overflow_x": null,
            "overflow_y": null,
            "padding": null,
            "right": null,
            "top": null,
            "visibility": null,
            "width": null
          }
        },
        "b336c5f637954b149b8b802976cd0872": {
          "model_module": "@jupyter-widgets/controls",
          "model_name": "DescriptionStyleModel",
          "model_module_version": "1.5.0",
          "state": {
            "_model_module": "@jupyter-widgets/controls",
            "_model_module_version": "1.5.0",
            "_model_name": "DescriptionStyleModel",
            "_view_count": null,
            "_view_module": "@jupyter-widgets/base",
            "_view_module_version": "1.2.0",
            "_view_name": "StyleView",
            "description_width": ""
          }
        },
        "1d88c5b635734eda990c7582b1c86977": {
          "model_module": "@jupyter-widgets/base",
          "model_name": "LayoutModel",
          "model_module_version": "1.2.0",
          "state": {
            "_model_module": "@jupyter-widgets/base",
            "_model_module_version": "1.2.0",
            "_model_name": "LayoutModel",
            "_view_count": null,
            "_view_module": "@jupyter-widgets/base",
            "_view_module_version": "1.2.0",
            "_view_name": "LayoutView",
            "align_content": null,
            "align_items": null,
            "align_self": null,
            "border": null,
            "bottom": null,
            "display": null,
            "flex": null,
            "flex_flow": null,
            "grid_area": null,
            "grid_auto_columns": null,
            "grid_auto_flow": null,
            "grid_auto_rows": null,
            "grid_column": null,
            "grid_gap": null,
            "grid_row": null,
            "grid_template_areas": null,
            "grid_template_columns": null,
            "grid_template_rows": null,
            "height": null,
            "justify_content": null,
            "justify_items": null,
            "left": null,
            "margin": null,
            "max_height": null,
            "max_width": null,
            "min_height": null,
            "min_width": null,
            "object_fit": null,
            "object_position": null,
            "order": null,
            "overflow": null,
            "overflow_x": null,
            "overflow_y": null,
            "padding": null,
            "right": null,
            "top": null,
            "visibility": null,
            "width": null
          }
        },
        "b208081bf25940cf822d0935d95df8e2": {
          "model_module": "@jupyter-widgets/controls",
          "model_name": "ProgressStyleModel",
          "model_module_version": "1.5.0",
          "state": {
            "_model_module": "@jupyter-widgets/controls",
            "_model_module_version": "1.5.0",
            "_model_name": "ProgressStyleModel",
            "_view_count": null,
            "_view_module": "@jupyter-widgets/base",
            "_view_module_version": "1.2.0",
            "_view_name": "StyleView",
            "bar_color": null,
            "description_width": ""
          }
        },
        "4f146777c58d419ab7be414924f5eff6": {
          "model_module": "@jupyter-widgets/base",
          "model_name": "LayoutModel",
          "model_module_version": "1.2.0",
          "state": {
            "_model_module": "@jupyter-widgets/base",
            "_model_module_version": "1.2.0",
            "_model_name": "LayoutModel",
            "_view_count": null,
            "_view_module": "@jupyter-widgets/base",
            "_view_module_version": "1.2.0",
            "_view_name": "LayoutView",
            "align_content": null,
            "align_items": null,
            "align_self": null,
            "border": null,
            "bottom": null,
            "display": null,
            "flex": null,
            "flex_flow": null,
            "grid_area": null,
            "grid_auto_columns": null,
            "grid_auto_flow": null,
            "grid_auto_rows": null,
            "grid_column": null,
            "grid_gap": null,
            "grid_row": null,
            "grid_template_areas": null,
            "grid_template_columns": null,
            "grid_template_rows": null,
            "height": null,
            "justify_content": null,
            "justify_items": null,
            "left": null,
            "margin": null,
            "max_height": null,
            "max_width": null,
            "min_height": null,
            "min_width": null,
            "object_fit": null,
            "object_position": null,
            "order": null,
            "overflow": null,
            "overflow_x": null,
            "overflow_y": null,
            "padding": null,
            "right": null,
            "top": null,
            "visibility": null,
            "width": null
          }
        },
        "dec30464b4ab4eab82f964edab946997": {
          "model_module": "@jupyter-widgets/controls",
          "model_name": "DescriptionStyleModel",
          "model_module_version": "1.5.0",
          "state": {
            "_model_module": "@jupyter-widgets/controls",
            "_model_module_version": "1.5.0",
            "_model_name": "DescriptionStyleModel",
            "_view_count": null,
            "_view_module": "@jupyter-widgets/base",
            "_view_module_version": "1.2.0",
            "_view_name": "StyleView",
            "description_width": ""
          }
        }
      }
    }
  },
  "cells": [
    {
      "cell_type": "markdown",
      "source": [
        "# Install and import libraries"
      ],
      "metadata": {
        "id": "e-QO1w2LWuN3"
      }
    },
    {
      "cell_type": "code",
      "source": [
        "!pip install einops\n",
        "!pip install datasets\n",
        "!pip install torch-fidelity\n",
        "!pip install torchmetrics\n",
        "!pip3 install image-similarity-measures"
      ],
      "metadata": {
        "colab": {
          "base_uri": "https://localhost:8080/"
        },
        "id": "ToBMCiqUWt-h",
        "outputId": "8a119191-5ae7-4a4a-949c-8223df7bc8e8"
      },
      "execution_count": 1,
      "outputs": [
        {
          "output_type": "stream",
          "name": "stdout",
          "text": [
            "Looking in indexes: https://pypi.org/simple, https://us-python.pkg.dev/colab-wheels/public/simple/\n",
            "Collecting einops\n",
            "  Downloading einops-0.6.0-py3-none-any.whl (41 kB)\n",
            "\u001b[K     |████████████████████████████████| 41 kB 435 kB/s \n",
            "\u001b[?25hInstalling collected packages: einops\n",
            "Successfully installed einops-0.6.0\n",
            "Looking in indexes: https://pypi.org/simple, https://us-python.pkg.dev/colab-wheels/public/simple/\n",
            "Collecting datasets\n",
            "  Downloading datasets-2.7.0-py3-none-any.whl (451 kB)\n",
            "\u001b[K     |████████████████████████████████| 451 kB 9.0 MB/s \n",
            "\u001b[?25hCollecting responses<0.19\n",
            "  Downloading responses-0.18.0-py3-none-any.whl (38 kB)\n",
            "Requirement already satisfied: numpy>=1.17 in /usr/local/lib/python3.7/dist-packages (from datasets) (1.21.6)\n",
            "Collecting xxhash\n",
            "  Downloading xxhash-3.1.0-cp37-cp37m-manylinux_2_17_x86_64.manylinux2014_x86_64.whl (212 kB)\n",
            "\u001b[K     |████████████████████████████████| 212 kB 47.4 MB/s \n",
            "\u001b[?25hRequirement already satisfied: importlib-metadata in /usr/local/lib/python3.7/dist-packages (from datasets) (4.13.0)\n",
            "Requirement already satisfied: aiohttp in /usr/local/lib/python3.7/dist-packages (from datasets) (3.8.3)\n",
            "Requirement already satisfied: requests>=2.19.0 in /usr/local/lib/python3.7/dist-packages (from datasets) (2.23.0)\n",
            "Requirement already satisfied: dill<0.3.7 in /usr/local/lib/python3.7/dist-packages (from datasets) (0.3.6)\n",
            "Requirement already satisfied: pyyaml>=5.1 in /usr/local/lib/python3.7/dist-packages (from datasets) (6.0)\n",
            "Requirement already satisfied: pyarrow>=6.0.0 in /usr/local/lib/python3.7/dist-packages (from datasets) (6.0.1)\n",
            "Requirement already satisfied: fsspec[http]>=2021.11.1 in /usr/local/lib/python3.7/dist-packages (from datasets) (2022.10.0)\n",
            "Collecting huggingface-hub<1.0.0,>=0.2.0\n",
            "  Downloading huggingface_hub-0.11.0-py3-none-any.whl (182 kB)\n",
            "\u001b[K     |████████████████████████████████| 182 kB 52.4 MB/s \n",
            "\u001b[?25hRequirement already satisfied: packaging in /usr/local/lib/python3.7/dist-packages (from datasets) (21.3)\n",
            "Requirement already satisfied: pandas in /usr/local/lib/python3.7/dist-packages (from datasets) (1.3.5)\n",
            "Collecting multiprocess\n",
            "  Downloading multiprocess-0.70.14-py37-none-any.whl (115 kB)\n",
            "\u001b[K     |████████████████████████████████| 115 kB 46.4 MB/s \n",
            "\u001b[?25hRequirement already satisfied: tqdm>=4.62.1 in /usr/local/lib/python3.7/dist-packages (from datasets) (4.64.1)\n",
            "Requirement already satisfied: typing-extensions>=3.7.4 in /usr/local/lib/python3.7/dist-packages (from aiohttp->datasets) (4.1.1)\n",
            "Requirement already satisfied: attrs>=17.3.0 in /usr/local/lib/python3.7/dist-packages (from aiohttp->datasets) (22.1.0)\n",
            "Requirement already satisfied: charset-normalizer<3.0,>=2.0 in /usr/local/lib/python3.7/dist-packages (from aiohttp->datasets) (2.1.1)\n",
            "Requirement already satisfied: yarl<2.0,>=1.0 in /usr/local/lib/python3.7/dist-packages (from aiohttp->datasets) (1.8.1)\n",
            "Requirement already satisfied: multidict<7.0,>=4.5 in /usr/local/lib/python3.7/dist-packages (from aiohttp->datasets) (6.0.2)\n",
            "Requirement already satisfied: frozenlist>=1.1.1 in /usr/local/lib/python3.7/dist-packages (from aiohttp->datasets) (1.3.3)\n",
            "Requirement already satisfied: aiosignal>=1.1.2 in /usr/local/lib/python3.7/dist-packages (from aiohttp->datasets) (1.3.1)\n",
            "Requirement already satisfied: asynctest==0.13.0 in /usr/local/lib/python3.7/dist-packages (from aiohttp->datasets) (0.13.0)\n",
            "Requirement already satisfied: async-timeout<5.0,>=4.0.0a3 in /usr/local/lib/python3.7/dist-packages (from aiohttp->datasets) (4.0.2)\n",
            "Requirement already satisfied: filelock in /usr/local/lib/python3.7/dist-packages (from huggingface-hub<1.0.0,>=0.2.0->datasets) (3.8.0)\n",
            "Requirement already satisfied: pyparsing!=3.0.5,>=2.0.2 in /usr/local/lib/python3.7/dist-packages (from packaging->datasets) (3.0.9)\n",
            "Requirement already satisfied: chardet<4,>=3.0.2 in /usr/local/lib/python3.7/dist-packages (from requests>=2.19.0->datasets) (3.0.4)\n",
            "Requirement already satisfied: urllib3!=1.25.0,!=1.25.1,<1.26,>=1.21.1 in /usr/local/lib/python3.7/dist-packages (from requests>=2.19.0->datasets) (1.24.3)\n",
            "Requirement already satisfied: idna<3,>=2.5 in /usr/local/lib/python3.7/dist-packages (from requests>=2.19.0->datasets) (2.10)\n",
            "Requirement already satisfied: certifi>=2017.4.17 in /usr/local/lib/python3.7/dist-packages (from requests>=2.19.0->datasets) (2022.9.24)\n",
            "Collecting urllib3!=1.25.0,!=1.25.1,<1.26,>=1.21.1\n",
            "  Downloading urllib3-1.25.11-py2.py3-none-any.whl (127 kB)\n",
            "\u001b[K     |████████████████████████████████| 127 kB 47.8 MB/s \n",
            "\u001b[?25hRequirement already satisfied: zipp>=0.5 in /usr/local/lib/python3.7/dist-packages (from importlib-metadata->datasets) (3.10.0)\n",
            "Requirement already satisfied: pytz>=2017.3 in /usr/local/lib/python3.7/dist-packages (from pandas->datasets) (2022.6)\n",
            "Requirement already satisfied: python-dateutil>=2.7.3 in /usr/local/lib/python3.7/dist-packages (from pandas->datasets) (2.8.2)\n",
            "Requirement already satisfied: six>=1.5 in /usr/local/lib/python3.7/dist-packages (from python-dateutil>=2.7.3->pandas->datasets) (1.15.0)\n",
            "Installing collected packages: urllib3, xxhash, responses, multiprocess, huggingface-hub, datasets\n",
            "  Attempting uninstall: urllib3\n",
            "    Found existing installation: urllib3 1.24.3\n",
            "    Uninstalling urllib3-1.24.3:\n",
            "      Successfully uninstalled urllib3-1.24.3\n",
            "Successfully installed datasets-2.7.0 huggingface-hub-0.11.0 multiprocess-0.70.14 responses-0.18.0 urllib3-1.25.11 xxhash-3.1.0\n",
            "Looking in indexes: https://pypi.org/simple, https://us-python.pkg.dev/colab-wheels/public/simple/\n",
            "Collecting torch-fidelity\n",
            "  Downloading torch_fidelity-0.3.0-py3-none-any.whl (37 kB)\n",
            "Requirement already satisfied: torch in /usr/local/lib/python3.7/dist-packages (from torch-fidelity) (1.12.1+cu113)\n",
            "Requirement already satisfied: Pillow in /usr/local/lib/python3.7/dist-packages (from torch-fidelity) (7.1.2)\n",
            "Requirement already satisfied: numpy in /usr/local/lib/python3.7/dist-packages (from torch-fidelity) (1.21.6)\n",
            "Requirement already satisfied: scipy in /usr/local/lib/python3.7/dist-packages (from torch-fidelity) (1.7.3)\n",
            "Requirement already satisfied: torchvision in /usr/local/lib/python3.7/dist-packages (from torch-fidelity) (0.13.1+cu113)\n",
            "Requirement already satisfied: tqdm in /usr/local/lib/python3.7/dist-packages (from torch-fidelity) (4.64.1)\n",
            "Requirement already satisfied: typing-extensions in /usr/local/lib/python3.7/dist-packages (from torch->torch-fidelity) (4.1.1)\n",
            "Requirement already satisfied: requests in /usr/local/lib/python3.7/dist-packages (from torchvision->torch-fidelity) (2.23.0)\n",
            "Requirement already satisfied: certifi>=2017.4.17 in /usr/local/lib/python3.7/dist-packages (from requests->torchvision->torch-fidelity) (2022.9.24)\n",
            "Requirement already satisfied: urllib3!=1.25.0,!=1.25.1,<1.26,>=1.21.1 in /usr/local/lib/python3.7/dist-packages (from requests->torchvision->torch-fidelity) (1.25.11)\n",
            "Requirement already satisfied: idna<3,>=2.5 in /usr/local/lib/python3.7/dist-packages (from requests->torchvision->torch-fidelity) (2.10)\n",
            "Requirement already satisfied: chardet<4,>=3.0.2 in /usr/local/lib/python3.7/dist-packages (from requests->torchvision->torch-fidelity) (3.0.4)\n",
            "Installing collected packages: torch-fidelity\n",
            "Successfully installed torch-fidelity-0.3.0\n",
            "Looking in indexes: https://pypi.org/simple, https://us-python.pkg.dev/colab-wheels/public/simple/\n",
            "Collecting torchmetrics\n",
            "  Downloading torchmetrics-0.10.3-py3-none-any.whl (529 kB)\n",
            "\u001b[K     |████████████████████████████████| 529 kB 35.2 MB/s \n",
            "\u001b[?25hRequirement already satisfied: packaging in /usr/local/lib/python3.7/dist-packages (from torchmetrics) (21.3)\n",
            "Requirement already satisfied: numpy>=1.17.2 in /usr/local/lib/python3.7/dist-packages (from torchmetrics) (1.21.6)\n",
            "Requirement already satisfied: torch>=1.3.1 in /usr/local/lib/python3.7/dist-packages (from torchmetrics) (1.12.1+cu113)\n",
            "Requirement already satisfied: typing-extensions in /usr/local/lib/python3.7/dist-packages (from torchmetrics) (4.1.1)\n",
            "Requirement already satisfied: pyparsing!=3.0.5,>=2.0.2 in /usr/local/lib/python3.7/dist-packages (from packaging->torchmetrics) (3.0.9)\n",
            "Installing collected packages: torchmetrics\n",
            "Successfully installed torchmetrics-0.10.3\n",
            "Looking in indexes: https://pypi.org/simple, https://us-python.pkg.dev/colab-wheels/public/simple/\n",
            "Collecting image-similarity-measures\n",
            "  Downloading image_similarity_measures-0.3.5-py3-none-any.whl (9.1 kB)\n",
            "Collecting rasterio\n",
            "  Downloading rasterio-1.2.10-cp37-cp37m-manylinux1_x86_64.whl (19.3 MB)\n",
            "\u001b[K     |████████████████████████████████| 19.3 MB 1.3 MB/s \n",
            "\u001b[?25hCollecting pyfftw\n",
            "  Downloading pyFFTW-0.13.0-cp37-cp37m-manylinux_2_5_x86_64.manylinux1_x86_64.whl (1.7 MB)\n",
            "\u001b[K     |████████████████████████████████| 1.7 MB 53.2 MB/s \n",
            "\u001b[?25hCollecting phasepack\n",
            "  Downloading phasepack-1.5.tar.gz (15 kB)\n",
            "Requirement already satisfied: scikit-image in /usr/local/lib/python3.7/dist-packages (from image-similarity-measures) (0.18.3)\n",
            "Requirement already satisfied: opencv-python in /usr/local/lib/python3.7/dist-packages (from image-similarity-measures) (4.6.0.66)\n",
            "Requirement already satisfied: numpy in /usr/local/lib/python3.7/dist-packages (from image-similarity-measures) (1.21.6)\n",
            "Requirement already satisfied: attrs in /usr/local/lib/python3.7/dist-packages (from rasterio->image-similarity-measures) (22.1.0)\n",
            "Collecting cligj>=0.5\n",
            "  Downloading cligj-0.7.2-py3-none-any.whl (7.1 kB)\n",
            "Requirement already satisfied: certifi in /usr/local/lib/python3.7/dist-packages (from rasterio->image-similarity-measures) (2022.9.24)\n",
            "Requirement already satisfied: setuptools in /usr/local/lib/python3.7/dist-packages (from rasterio->image-similarity-measures) (57.4.0)\n",
            "Collecting click-plugins\n",
            "  Downloading click_plugins-1.1.1-py2.py3-none-any.whl (7.5 kB)\n",
            "Requirement already satisfied: click>=4.0 in /usr/local/lib/python3.7/dist-packages (from rasterio->image-similarity-measures) (7.1.2)\n",
            "Collecting affine\n",
            "  Downloading affine-2.3.1-py2.py3-none-any.whl (16 kB)\n",
            "Collecting snuggs>=1.4.1\n",
            "  Downloading snuggs-1.4.7-py3-none-any.whl (5.4 kB)\n",
            "Requirement already satisfied: pyparsing>=2.1.6 in /usr/local/lib/python3.7/dist-packages (from snuggs>=1.4.1->rasterio->image-similarity-measures) (3.0.9)\n",
            "Requirement already satisfied: tifffile>=2019.7.26 in /usr/local/lib/python3.7/dist-packages (from scikit-image->image-similarity-measures) (2021.11.2)\n",
            "Requirement already satisfied: matplotlib!=3.0.0,>=2.0.0 in /usr/local/lib/python3.7/dist-packages (from scikit-image->image-similarity-measures) (3.2.2)\n",
            "Requirement already satisfied: PyWavelets>=1.1.1 in /usr/local/lib/python3.7/dist-packages (from scikit-image->image-similarity-measures) (1.3.0)\n",
            "Requirement already satisfied: networkx>=2.0 in /usr/local/lib/python3.7/dist-packages (from scikit-image->image-similarity-measures) (2.6.3)\n",
            "Requirement already satisfied: pillow!=7.1.0,!=7.1.1,>=4.3.0 in /usr/local/lib/python3.7/dist-packages (from scikit-image->image-similarity-measures) (7.1.2)\n",
            "Requirement already satisfied: scipy>=1.0.1 in /usr/local/lib/python3.7/dist-packages (from scikit-image->image-similarity-measures) (1.7.3)\n",
            "Requirement already satisfied: imageio>=2.3.0 in /usr/local/lib/python3.7/dist-packages (from scikit-image->image-similarity-measures) (2.9.0)\n",
            "Requirement already satisfied: python-dateutil>=2.1 in /usr/local/lib/python3.7/dist-packages (from matplotlib!=3.0.0,>=2.0.0->scikit-image->image-similarity-measures) (2.8.2)\n",
            "Requirement already satisfied: cycler>=0.10 in /usr/local/lib/python3.7/dist-packages (from matplotlib!=3.0.0,>=2.0.0->scikit-image->image-similarity-measures) (0.11.0)\n",
            "Requirement already satisfied: kiwisolver>=1.0.1 in /usr/local/lib/python3.7/dist-packages (from matplotlib!=3.0.0,>=2.0.0->scikit-image->image-similarity-measures) (1.4.4)\n",
            "Requirement already satisfied: typing-extensions in /usr/local/lib/python3.7/dist-packages (from kiwisolver>=1.0.1->matplotlib!=3.0.0,>=2.0.0->scikit-image->image-similarity-measures) (4.1.1)\n",
            "Requirement already satisfied: six>=1.5 in /usr/local/lib/python3.7/dist-packages (from python-dateutil>=2.1->matplotlib!=3.0.0,>=2.0.0->scikit-image->image-similarity-measures) (1.15.0)\n",
            "Building wheels for collected packages: phasepack\n",
            "  Building wheel for phasepack (setup.py) ... \u001b[?25l\u001b[?25hdone\n",
            "  Created wheel for phasepack: filename=phasepack-1.5-py3-none-any.whl size=26985 sha256=a588e6b8dcd6a8867763d70d7adc6fa5ebff21e428180406dd16a986fdc3227f\n",
            "  Stored in directory: /root/.cache/pip/wheels/39/5c/b3/79292d7ac3f088e858805b5515b45cf5a365106397d936caf1\n",
            "Successfully built phasepack\n",
            "Installing collected packages: snuggs, cligj, click-plugins, affine, rasterio, pyfftw, phasepack, image-similarity-measures\n",
            "Successfully installed affine-2.3.1 click-plugins-1.1.1 cligj-0.7.2 image-similarity-measures-0.3.5 phasepack-1.5 pyfftw-0.13.0 rasterio-1.2.10 snuggs-1.4.7\n"
          ]
        }
      ]
    },
    {
      "cell_type": "code",
      "source": [
        "from google.colab import drive\n",
        "drive.mount('/content/drive')"
      ],
      "metadata": {
        "id": "w3CGzLNng2SO",
        "colab": {
          "base_uri": "https://localhost:8080/"
        },
        "outputId": "a3c3f4f1-4b7d-498d-ce59-4ee4cdcbb399"
      },
      "execution_count": 2,
      "outputs": [
        {
          "output_type": "stream",
          "name": "stdout",
          "text": [
            "Mounted at /content/drive\n"
          ]
        }
      ]
    },
    {
      "cell_type": "code",
      "source": [
        "import numpy as np\n",
        "import numpy\n",
        "from numpy import cov, trace, iscomplexobj\n",
        "import pandas as pd\n",
        "import matplotlib.pyplot as plt\n",
        "from scipy.linalg import sqrtm\n",
        "\n",
        "import torch\n",
        "import torch.nn as nn\n",
        "\n",
        "import torchvision\n",
        "import torchvision.transforms as transforms\n",
        "from torch.utils.data import Dataset, DataLoader\n",
        "\n",
        "import sys\n",
        "\n",
        "device = torch.device(\"cuda:0\" if torch.cuda.is_available() else \"cpu\")"
      ],
      "metadata": {
        "id": "fF8Nf87OWyfk"
      },
      "execution_count": 1,
      "outputs": []
    },
    {
      "cell_type": "markdown",
      "source": [
        "# Paths (Checkpoint)"
      ],
      "metadata": {
        "id": "VENFGEJUXgYj"
      }
    },
    {
      "cell_type": "code",
      "source": [
        "FashionCNN_checkpoint = \"/content/drive/MyDrive/Colab Notebooks/DiffusionModels/fashion_mnist_CNNClassifier_91Acc.pt\"\n",
        "DiffusionModel_checkpoint = \"/content/drive/MyDrive/Colab Notebooks/DiffusionModels/FashionMNIST/checkpoint/checkpoint_T500/fashion_mnist/Unet.ckpt\"\n",
        "\n",
        "Stats_path = \"/content/drive/MyDrive/Colab Notebooks/DiffusionModels/FashionMNIST/checkpoint/checkpoint_T500/fashion_mnist/stats_T500.csv\""
      ],
      "metadata": {
        "id": "hwBhGOaMXh6-"
      },
      "execution_count": 2,
      "outputs": []
    },
    {
      "cell_type": "markdown",
      "source": [
        "# Load FashionMNIST Dataset to get Real Images"
      ],
      "metadata": {
        "id": "oCcpMrKzaWFi"
      }
    },
    {
      "cell_type": "code",
      "source": [
        "train_set = torchvision.datasets.FashionMNIST(\"./data\", download=True, transform=\n",
        "                                                transforms.Compose([transforms.ToTensor()]))\n",
        "train_loader = torch.utils.data.DataLoader(train_set, \n",
        "                                           batch_size=100, shuffle=False)"
      ],
      "metadata": {
        "id": "x5HMZwFNau29"
      },
      "execution_count": 3,
      "outputs": []
    },
    {
      "cell_type": "markdown",
      "source": [
        "# Generate Images from trained Diffusion Model"
      ],
      "metadata": {
        "id": "J9fcmQZkWa3D"
      }
    },
    {
      "cell_type": "code",
      "source": [
        "!git clone https://github.com/GangaMegha/Diffusion-Models.git "
      ],
      "metadata": {
        "colab": {
          "base_uri": "https://localhost:8080/"
        },
        "id": "Ylmc8Lm-Wal4",
        "outputId": "b6652e96-a7da-4270-aa61-0b8ddf86f822"
      },
      "execution_count": 6,
      "outputs": [
        {
          "output_type": "stream",
          "name": "stdout",
          "text": [
            "Cloning into 'Diffusion-Models'...\n",
            "remote: Enumerating objects: 173, done.\u001b[K\n",
            "remote: Counting objects: 100% (173/173), done.\u001b[K\n",
            "remote: Compressing objects: 100% (117/117), done.\u001b[K\n",
            "remote: Total 173 (delta 95), reused 127 (delta 53), pack-reused 0\u001b[K\n",
            "Receiving objects: 100% (173/173), 29.34 KiB | 9.78 MiB/s, done.\n",
            "Resolving deltas: 100% (95/95), done.\n"
          ]
        }
      ]
    },
    {
      "cell_type": "code",
      "source": [
        "%cd /content/Diffusion-Models/src\n",
        "!ls"
      ],
      "metadata": {
        "colab": {
          "base_uri": "https://localhost:8080/"
        },
        "id": "3DOYLgToXQER",
        "outputId": "7101d8e4-a3af-4c6d-8cb4-d3bb8d45ff0c"
      },
      "execution_count": 4,
      "outputs": [
        {
          "output_type": "stream",
          "name": "stdout",
          "text": [
            "/content/Diffusion-Models/src\n",
            "config.py  data_loader.py  logger.py  models\t   train\n",
            "data\t   diffusion\t   main.py    __pycache__  visualize\n"
          ]
        }
      ]
    },
    {
      "cell_type": "markdown",
      "source": [
        "#### Load Model"
      ],
      "metadata": {
        "id": "XPoNCkhEZl0N"
      }
    },
    {
      "cell_type": "code",
      "source": [
        "\n",
        "from models.unet import Unet as Model\n",
        "from config import LEVEL, TRAIN, MODEL, MODEL_TYPE, DATASET_NAME, CONFIG, CHECKPOINT_PATH, RESULT_PATH, LOG_PATH\n",
        "\n",
        "from diffusion.reverse_data_generate import sample, p_sample\n",
        "from diffusion.var_schedule import alpha_beta\n",
        "\n",
        "from data_loader import reverse_transform\n",
        "\n",
        "cfg = CONFIG[MODEL_TYPE.value][DATASET_NAME]\n",
        "Noise_model = Model(cfg)\n",
        "Noise_model_checkpoint = torch.load(DiffusionModel_checkpoint)\n",
        "Noise_model.load_state_dict(Noise_model_checkpoint['state_dict'])\n",
        "Noise_model.to(device)\n",
        "Noise_model.eval()\n",
        "\n",
        "variance_dict = alpha_beta(cfg.get('T'), schedule=cfg.get(\"var_schedule\"))"
      ],
      "metadata": {
        "id": "emwbzyyWYIRO"
      },
      "execution_count": 5,
      "outputs": []
    },
    {
      "cell_type": "markdown",
      "source": [
        "#### Interpolation"
      ],
      "metadata": {
        "id": "0KhlTvbSN9EO"
      }
    },
    {
      "cell_type": "code",
      "source": [
        "from tqdm.auto import tqdm\n",
        "from torchvision.utils import save_image\n",
        "\n",
        "from diffusion.forward_diffusion import get_noisy_image\n",
        "\n",
        "it = iter(train_loader)\n",
        "batch = next(it)[0]\n",
        "\n",
        "# img1 = get_noisy_image(batch[3], torch.tensor([cfg.get('T')-1]), variance_dict)[None, None, :, :]/255.0\n",
        "# img2 = get_noisy_image(batch[10], torch.tensor([cfg.get('T')-1]), variance_dict)[None, None, :, :]/255.0\n",
        "\n",
        "img1 = get_noisy_image(2*batch[55]-1, torch.tensor([499]), variance_dict)[None, None, :, :]/255.0\n",
        "img2 = get_noisy_image(2*batch[44]-1, torch.tensor([499]), variance_dict)[None, None, :, :]/255.0\n",
        "# img2 = get_noisy_image(batch[-11], torch.tensor([100]), variance_dict)[None, None, :, :]/255.0\n",
        "\n",
        "# plt.imshow((2*img1-1).reshape(28,28), cmap='gray')\n",
        "img1 = img1*2 - 1\n",
        "img2 = img2*2 - 1\n",
        "\n",
        "imgs = []\n",
        "for i in np.linspace(0, 1, 9):\n",
        "  print(i)\n",
        "  imgs.append(i*img1 + (1-i)*img2)\n",
        "  \n",
        "imgs = torch.cat(imgs, dim=0).to(device)\n",
        "b = len(imgs)\n",
        "\n",
        "for i in tqdm(reversed(range(0, 500)), desc='sampling loop time step', total=500):\n",
        "    imgs = p_sample(Noise_model, imgs, torch.full((b,), i, device=device, dtype=torch.long), i, variance_dict)\n",
        "\n",
        "save_image((imgs+1)*0.5, \"FashionMNIST_T500_Interpolation.png\", nrow=16)"
      ],
      "metadata": {
        "colab": {
          "base_uri": "https://localhost:8080/",
          "height": 210,
          "referenced_widgets": [
            "b43b4bf0d35a4b7c8c8a2800216fd435",
            "5fc14cec4db44483be55e3c487abc36c",
            "94dd6c338ba64b6097ea30a132cd9431",
            "e7b3f6653c64442da0be33508da28b2d",
            "e178cee2309045b1bb8cad38fc130d42",
            "b3c3a50ae03d4a8c9b351f4c67af3ad0",
            "27aec7559b7748969dff90702de062ff",
            "5aa2738bdb264b50bddbf42f2853f4d4",
            "800d041fcaba4222bf79221f5a037d67",
            "dbd8fae23d9f49c9a4b4e4a362f20956",
            "ac8897299353458caab419370e908289"
          ]
        },
        "id": "IqtQwh1cYefm",
        "outputId": "0fecf223-ba42-4365-d1e9-abf35fed66c3"
      },
      "execution_count": 120,
      "outputs": [
        {
          "output_type": "stream",
          "name": "stdout",
          "text": [
            "0.0\n",
            "0.125\n",
            "0.25\n",
            "0.375\n",
            "0.5\n",
            "0.625\n",
            "0.75\n",
            "0.875\n",
            "1.0\n"
          ]
        },
        {
          "output_type": "display_data",
          "data": {
            "text/plain": [
              "sampling loop time step:   0%|          | 0/500 [00:00<?, ?it/s]"
            ],
            "application/vnd.jupyter.widget-view+json": {
              "version_major": 2,
              "version_minor": 0,
              "model_id": "b43b4bf0d35a4b7c8c8a2800216fd435"
            }
          },
          "metadata": {}
        }
      ]
    },
    {
      "cell_type": "code",
      "source": [
        "from tqdm.auto import tqdm\n",
        "from torchvision.utils import save_image\n",
        "\n",
        "img1 = torch.randn((1, 1, 28, 28), device=device)\n",
        "img2 = torch.randn((1, 1, 28, 28), device=device)\n",
        "\n",
        "imgs = []\n",
        "for i in np.linspace(0,1, 9):\n",
        "  print(i)\n",
        "  imgs.append(i*img1 + (1-i)*img2)\n",
        "  \n",
        "imgs = torch.cat(imgs, dim=0)\n",
        "b = len(imgs)\n",
        "\n",
        "for i in tqdm(reversed(range(0, 500)), desc='sampling loop time step', total=500):\n",
        "    imgs = p_sample(Noise_model, imgs, torch.full((b,), i, device=device, dtype=torch.long), i, variance_dict)\n",
        "\n",
        "save_image((imgs+1)*0.5, \"FashionMNIST_T500_Interpolation.png\", nrow=16)"
      ],
      "metadata": {
        "colab": {
          "base_uri": "https://localhost:8080/",
          "height": 210,
          "referenced_widgets": [
            "ad9bb34211854d99bd87225cfe99939c",
            "d75285a0bdf24c9ebd50162df3304479",
            "1cb756adafa04622af430bb13f7b97d6",
            "db9e03a0ecf341a98cb37e5f3551a2a4",
            "49bca2d3df12441bb16914dc0f2cf97e",
            "4c0c4bb0ba4f45508397d03d9f2be38d",
            "b336c5f637954b149b8b802976cd0872",
            "1d88c5b635734eda990c7582b1c86977",
            "b208081bf25940cf822d0935d95df8e2",
            "4f146777c58d419ab7be414924f5eff6",
            "dec30464b4ab4eab82f964edab946997"
          ]
        },
        "id": "nEDLt23zM6iH",
        "outputId": "19201926-8418-43f0-e0d0-fa06df3968f2"
      },
      "execution_count": 15,
      "outputs": [
        {
          "output_type": "stream",
          "name": "stdout",
          "text": [
            "0.0\n",
            "0.125\n",
            "0.25\n",
            "0.375\n",
            "0.5\n",
            "0.625\n",
            "0.75\n",
            "0.875\n",
            "1.0\n"
          ]
        },
        {
          "output_type": "display_data",
          "data": {
            "text/plain": [
              "sampling loop time step:   0%|          | 0/500 [00:00<?, ?it/s]"
            ],
            "application/vnd.jupyter.widget-view+json": {
              "version_major": 2,
              "version_minor": 0,
              "model_id": "ad9bb34211854d99bd87225cfe99939c"
            }
          },
          "metadata": {}
        }
      ]
    },
    {
      "cell_type": "markdown",
      "source": [
        "#### Generate Images"
      ],
      "metadata": {
        "id": "NxmVckABZqjV"
      }
    },
    {
      "cell_type": "code",
      "source": [
        "fake_images = []\n",
        "for i in range(10):\n",
        "  fake_images_list = sample(Noise_model, variance_dict, cfg, sample_cnt=100, every50=False)\n",
        "  fake_images.append(reverse_transform()(torch.cat(fake_images_list, dim=0)))"
      ],
      "metadata": {
        "id": "s78UGGhJZp2w"
      },
      "execution_count": null,
      "outputs": []
    },
    {
      "cell_type": "markdown",
      "source": [
        "# Get FashionCNN results for Real and Fake Images"
      ],
      "metadata": {
        "id": "EVjBnb1pV5em"
      }
    },
    {
      "cell_type": "code",
      "source": [
        "class FashionCNN(nn.Module):\n",
        "    \n",
        "    def __init__(self):\n",
        "        super(FashionCNN, self).__init__()\n",
        "        \n",
        "        self.layer1 = nn.Sequential(\n",
        "            nn.Conv2d(in_channels=1, out_channels=32, kernel_size=3, padding=\"same\"),\n",
        "            nn.MaxPool2d(kernel_size=2, stride=2)\n",
        "        )\n",
        "        \n",
        "        self.layer2 = nn.Sequential(\n",
        "            nn.Conv2d(in_channels=32, out_channels=64, kernel_size=3, padding=\"same\"),\n",
        "            nn.MaxPool2d(2)\n",
        "        )\n",
        "        \n",
        "        self.fc1 = nn.Linear(in_features=64*7*7, out_features=128)\n",
        "        self.fc2 = nn.Linear(in_features=128, out_features=10)\n",
        "        \n",
        "    def forward(self, x):\n",
        "        out = self.layer1(x)\n",
        "        out = self.layer2(out)\n",
        "        out = out.view(out.size(0), -1)\n",
        "        out = nn.ReLU()(self.fc1(out))\n",
        "        out = nn.Softmax()(self.fc2(out))\n",
        "        \n",
        "        return out\n",
        "\n",
        "FashionCNN_model = FashionCNN()\n",
        "CNN_checkpoint = torch.load(FashionCNN_checkpoint)\n",
        "FashionCNN_model.load_state_dict(CNN_checkpoint['state_dict'])\n",
        "FashionCNN_model.to(device)\n",
        "FashionCNN_model.eval()"
      ],
      "metadata": {
        "id": "jg7f1j94WDDo"
      },
      "execution_count": null,
      "outputs": []
    },
    {
      "cell_type": "code",
      "source": [
        "activation = {}\n",
        "def get_activation(name):\n",
        "    def hook(model, input, output):\n",
        "        activation[name] = output.clone().detach()\n",
        "    return hook\n",
        "\n",
        "FashionCNN_model.fc1.register_forward_hook(get_activation('fc1'))"
      ],
      "metadata": {
        "id": "qHwj45fUdh8y"
      },
      "execution_count": null,
      "outputs": []
    },
    {
      "cell_type": "markdown",
      "source": [
        "#### Real Images"
      ],
      "metadata": {
        "id": "Cc5BZfuwcUvL"
      }
    },
    {
      "cell_type": "code",
      "execution_count": null,
      "metadata": {
        "id": "OEPS-VXiVu0U"
      },
      "outputs": [],
      "source": [
        "real_out = []\n",
        "output_real = []\n",
        "it = iter(train_loader)\n",
        "batches = []\n",
        "for i in range(10):\n",
        "  batch = next(it)\n",
        "  batches.append(batch[0])\n",
        "  output_real.append(FashionCNN_model(batch[0].to(device)))\n",
        "  real_out.append(activation['fc1'].detach().cpu().numpy())"
      ]
    },
    {
      "cell_type": "markdown",
      "source": [
        "#### Fake Images"
      ],
      "metadata": {
        "id": "IIaml-Bpe5k5"
      }
    },
    {
      "cell_type": "code",
      "source": [
        "fake_out = []\n",
        "output_fake = []\n",
        "for i in range(10):\n",
        "  output_fake.append(FashionCNN_model((fake_images[i].to(dtype=torch.float)/255.0).to(device)))\n",
        "  fake_out.append(activation['fc1'].detach().cpu().numpy())"
      ],
      "metadata": {
        "id": "e5jwC0r_fEJt"
      },
      "execution_count": null,
      "outputs": []
    },
    {
      "cell_type": "markdown",
      "source": [
        "## Calculate FID"
      ],
      "metadata": {
        "id": "aM_souVPfh0Z"
      }
    },
    {
      "cell_type": "code",
      "source": [
        "# Ref : https://machinelearningmastery.com/how-to-implement-the-frechet-inception-distance-fid-from-scratch/\n",
        "def calculate_fid(act1, act2):\n",
        "\t# calculate mean and covariance statistics\n",
        "\tmu1, sigma1 = act1.mean(axis=0), cov(act1, rowvar=False)\n",
        "\tmu2, sigma2 = act2.mean(axis=0), cov(act2, rowvar=False)\n",
        "\t# calculate sum squared difference between means\n",
        "\tssdiff = numpy.sum((mu1 - mu2)**2.0)\n",
        "\t# calculate sqrt of product between cov\n",
        "\tcovmean = sqrtm(sigma1.dot(sigma2))\n",
        "\t# check and correct imaginary numbers from sqrt\n",
        "\tif iscomplexobj(covmean):\n",
        "\t\tcovmean = covmean.real\n",
        "\t# calculate score\n",
        "\tfid = ssdiff + trace(sigma1 + sigma2 - 2.0 * covmean)\n",
        "\treturn fid"
      ],
      "metadata": {
        "id": "Z6HstpzPfjZL"
      },
      "execution_count": null,
      "outputs": []
    },
    {
      "cell_type": "code",
      "source": [
        "fid_cnn_list = []\n",
        "for i in range(10):\n",
        "  fid_cnn_list.append(calculate_fid(real_out[i], fake_out[i]))\n",
        "\n",
        "print(\"fid_cnn_list : \", fid_cnn_list)\n",
        "print(\"Mean : \", np.mean(np.array(fid_cnn_list)))\n",
        "print(\"Std : \", np.std(np.array(fid_cnn_list)))"
      ],
      "metadata": {
        "id": "iWgqvYZ8gMiQ"
      },
      "execution_count": null,
      "outputs": []
    },
    {
      "cell_type": "markdown",
      "source": [
        "## Calculate Inception Score using CNN Classifier Probabilities"
      ],
      "metadata": {
        "id": "CYsjqmuSq5xx"
      }
    },
    {
      "cell_type": "code",
      "source": [
        "# Ref : https://machinelearningmastery.com/how-to-implement-the-inception-score-from-scratch-for-evaluating-generated-images/\n",
        "# calculate the inception score for p(y|x)\n",
        "def calculate_inception_score(p_yx, eps=1E-16):\n",
        "\t# calculate p(y)\n",
        "\tp_y = np.expand_dims(p_yx.mean(axis=0), 0)\n",
        "\t# kl divergence for each image\n",
        "\tkl_d = p_yx * (np.log(p_yx + eps) - np.log(p_y + eps))\n",
        "\t# sum over classes\n",
        "\tsum_kl_d = kl_d.sum(axis=1)\n",
        "\t# average over images\n",
        "\tavg_kl_d = np.mean(sum_kl_d)\n",
        "\t# undo the logs\n",
        "\tis_score = np.exp(avg_kl_d)\n",
        "\treturn is_score"
      ],
      "metadata": {
        "id": "eLyNTqYYq5fz"
      },
      "execution_count": null,
      "outputs": []
    },
    {
      "cell_type": "code",
      "source": [
        "is_cnn_list = []\n",
        "for i in range(10):\n",
        "  is_cnn_list.append(calculate_inception_score(output_fake[i].detach().cpu().numpy()))\n",
        "\n",
        "print(\"is_cnn_list : \", is_cnn_list)\n",
        "print(\"Mean : \", np.mean(np.array(is_cnn_list)))\n",
        "print(\"Std : \", np.std(np.array(is_cnn_list)))"
      ],
      "metadata": {
        "id": "ttPhQy5arWeQ"
      },
      "execution_count": null,
      "outputs": []
    },
    {
      "cell_type": "markdown",
      "source": [
        "## Calculate SSIM and RMSE"
      ],
      "metadata": {
        "id": "TIBzxqbJ3yND"
      }
    },
    {
      "cell_type": "code",
      "source": [
        "from image_similarity_measures.quality_metrics import rmse, ssim, sre, uiq\n",
        "\n",
        "ssim_list_class = []\n",
        "rmse_list_class = []\n",
        "\n",
        "for label in range(10):\n",
        "  ssim_list = []\n",
        "  rmse_list = []\n",
        "\n",
        "  for idx in range(10):\n",
        "    predicted_real = torch.max(output_real[idx], 1)[1]\n",
        "    predicted_fake = torch.max(output_fake[idx], 1)[1]\n",
        "\n",
        "    real_img = []\n",
        "    fake_img = []\n",
        "    for j in range(len(predicted_real)):\n",
        "      if predicted_real[j]==label:\n",
        "        real_img.append(batches[idx][j])\n",
        "    for j in range(len(predicted_fake)):\n",
        "      if predicted_fake[j]==label:\n",
        "        fake_img.append((fake_images[idx][j].to(dtype=torch.float)/255.0).to(device))\n",
        "\n",
        "    for j in range(len(real_img)):\n",
        "      for k in range(len(fake_img)):\n",
        "        ssim_list.append(ssim(real_img[j].permute(1, 2, 0).cpu().numpy(), fake_img[k].permute(1, 2, 0).cpu().numpy()))\n",
        "        rmse_list.append(rmse(real_img[j].permute(1, 2, 0).cpu().numpy(), fake_img[k].permute(1, 2, 0).cpu().numpy()))\n",
        "\n",
        "  ssim_list_class.append(np.mean(np.array(ssim_list)))\n",
        "  rmse_list_class.append(np.mean(np.array(rmse_list)))\n",
        "\n",
        "print(\"ssim_list_class : \", ssim_list_class)\n",
        "print(\"rmse_list_class : \", rmse_list_class)\n",
        "\n",
        "ssim_list_class = np.nan_to_num(np.array(ssim_list_class), nan=0)\n",
        "rmse_list_class = np.nan_to_num(np.array(rmse_list_class), nan=1)\n",
        "\n",
        "print(\"ssim_list_class : \", ssim_list_class)\n",
        "print(\"rmse_list_class : \", rmse_list_class)\n",
        "\n",
        "print(\"ssim Mean : \", np.mean(ssim_list_class))\n",
        "print(\"ssim Std : \", np.std(ssim_list_class))\n",
        "\n",
        "print(\"rmse Mean : \", np.mean(rmse_list_class))\n",
        "print(\"rmse Std : \", np.std(rmse_list_class))"
      ],
      "metadata": {
        "id": "OtoSkkbt3-c5",
        "colab": {
          "base_uri": "https://localhost:8080/"
        },
        "outputId": "202e8f8d-f459-4f17-8e49-190c1a992f3a"
      },
      "execution_count": null,
      "outputs": [
        {
          "output_type": "stream",
          "name": "stdout",
          "text": [
            "ssim_list_class :  [0.9999532560229581, 0.9999653231001326, 0.9999529324990983, 0.9999621573417958, 0.9999600030414929, 0.999951818798513, 0.9999439974789275, 0.9999738826443573, 0.9999313274782419, 0.9999664544318044]\n",
            "rmse_list_class :  [8.7888104e-05, 7.7351026e-05, 9.201101e-05, 7.884341e-05, 8.2812265e-05, 8.778537e-05, 9.6386546e-05, 6.9133195e-05, 0.0001118533, 8.1303806e-05]\n",
            "ssim_list_class :  [0.99995326 0.99996532 0.99995293 0.99996216 0.99996    0.99995182\n",
            " 0.999944   0.99997388 0.99993133 0.99996645]\n",
            "rmse_list_class :  [8.7888104e-05 7.7351026e-05 9.2011011e-05 7.8843412e-05 8.2812265e-05\n",
            " 8.7785367e-05 9.6386546e-05 6.9133195e-05 1.1185330e-04 8.1303806e-05]\n",
            "ssim Mean :  0.9999561152837323\n",
            "ssim Std :  1.1649136728123086e-05\n",
            "rmse Mean :  8.6536806e-05\n",
            "rmse Std :  1.122053e-05\n"
          ]
        }
      ]
    },
    {
      "cell_type": "markdown",
      "source": [
        "# Compute True FID and IS using Inception Network"
      ],
      "metadata": {
        "id": "XAhZviu5sUUC"
      }
    },
    {
      "cell_type": "code",
      "source": [
        "from train.metrics import FID, IS"
      ],
      "metadata": {
        "id": "2o_dWyn-jMBK"
      },
      "execution_count": null,
      "outputs": []
    },
    {
      "cell_type": "code",
      "source": [
        "FID_ = FID().to(device)\n",
        "IS_ = IS().to(device)"
      ],
      "metadata": {
        "id": "lp-CUUyjmWy4",
        "colab": {
          "base_uri": "https://localhost:8080/",
          "height": 123,
          "referenced_widgets": [
            "f8d2d88128a041afae954f307c8621c0",
            "4a7e949e532d4895b9f7b1b12972ee1e",
            "154e19b55e2b4ea98f89a572297f51b2",
            "55ac5e8f9b26403aa0d45403cb948b8d",
            "55f5c4866c214172b450fe216186a03b",
            "a445165ced5d492ebff2115ed2fb30ff",
            "1804648753b348a7a0ceefe75d5f7a5f",
            "8c7ba7504a9748279ab16b07a4e1b71f",
            "30735dbcfc3f4be0ac1a7974a71bd13d",
            "37a712b15db24c329ae6420ec7ea0651",
            "211f09f0b1d448938557dd7af599d06f"
          ]
        },
        "outputId": "e5684ee7-d9fe-4baf-d709-eb107519ac35"
      },
      "execution_count": null,
      "outputs": [
        {
          "output_type": "stream",
          "name": "stderr",
          "text": [
            "Downloading: \"https://github.com/toshas/torch-fidelity/releases/download/v0.2.0/weights-inception-2015-12-05-6726825d.pth\" to /root/.cache/torch/hub/checkpoints/weights-inception-2015-12-05-6726825d.pth\n"
          ]
        },
        {
          "output_type": "display_data",
          "data": {
            "text/plain": [
              "  0%|          | 0.00/91.2M [00:00<?, ?B/s]"
            ],
            "application/vnd.jupyter.widget-view+json": {
              "version_major": 2,
              "version_minor": 0,
              "model_id": "f8d2d88128a041afae954f307c8621c0"
            }
          },
          "metadata": {}
        },
        {
          "output_type": "stream",
          "name": "stderr",
          "text": [
            "/usr/local/lib/python3.7/dist-packages/torchmetrics/utilities/prints.py:36: UserWarning: Metric `InceptionScore` will save all extracted features in buffer. For large datasets this may lead to large memory footprint.\n",
            "  warnings.warn(*args, **kwargs)\n"
          ]
        }
      ]
    },
    {
      "cell_type": "code",
      "source": [
        "it = iter(train_loader)\n",
        "FID_list, IS_list = [], []\n",
        "\n",
        "for i in range(10):\n",
        "  batch = next(it)[0]\n",
        "  FID_list.append(FID_(fake_images[i].to(device), (batch*255).to(dtype=torch.uint8).to(device), cfg[\"grayscale\"]).item())\n",
        "  IS_list.append(IS_(fake_images[i].to(device), cfg[\"grayscale\"]).item())\n",
        "\n",
        "print(\"FID_list : \", FID_list)\n",
        "print(\"IS_list : \", IS_list)\n",
        "\n",
        "print(\"FID Mean : \", np.mean(np.array(FID_list)))\n",
        "print(\"FID Std : \", np.std(np.array(FID_list)))\n",
        "\n",
        "print(\"IS Mean : \", np.mean(np.array(IS_list)))\n",
        "print(\"IS Std : \", np.std(np.array(IS_list)))"
      ],
      "metadata": {
        "id": "E6R2NNH-mb3Y",
        "colab": {
          "base_uri": "https://localhost:8080/"
        },
        "outputId": "4b0aa083-68e3-4a0d-8c3d-281961cb54c1"
      },
      "execution_count": null,
      "outputs": [
        {
          "output_type": "stream",
          "name": "stdout",
          "text": [
            "FID_list :  [145.5977325439453, 146.1687469482422, 143.8839569091797, 147.5160675048828, 148.0241241455078, 148.95191955566406, 148.58302307128906, 153.00155639648438, 160.1544647216797, 141.3311767578125]\n",
            "IS_list :  [3.1128711700439453, 3.277529239654541, 3.090423345565796, 3.162557363510132, 3.0484530925750732, 3.0440945625305176, 3.2014527320861816, 2.929187774658203, 3.320741653442383, 3.3122475147247314]\n",
            "FID Mean :  148.32127685546874\n",
            "FID Std :  4.936948663765205\n",
            "IS Mean :  3.1499558448791505\n",
            "IS Std :  0.12237623521877555\n"
          ]
        }
      ]
    },
    {
      "cell_type": "markdown",
      "source": [
        "# Save Computed stats"
      ],
      "metadata": {
        "id": "rEYvFn6j9m6h"
      }
    },
    {
      "cell_type": "code",
      "source": [
        "# load csv module\n",
        "import csv\n",
        "\n",
        "# define a dictionary with key value pairs\n",
        "diction = {\n",
        "    \"Metric\" : \"Value\",\n",
        "    \"FID Mean\" : np.mean(np.array(FID_list)),\n",
        "    \"FID Std\" : np.std(np.array(FID_list)),\n",
        "    \"IS Mean\" : np.mean(np.array(IS_list)),\n",
        "    \"IS Std\" : np.std(np.array(IS_list)),\n",
        "    \"SSIM Mean\" : np.mean(np.array(ssim_list_class)),\n",
        "    \"SSIM Std\" : np.std(np.array(ssim_list_class)),\n",
        "    \"RMSE Mean\" : np.mean(np.array(rmse_list_class)),\n",
        "    \"RMSE Std\" : np.std(np.array(rmse_list_class)),\n",
        "    \"FID CNN Mean\" : np.mean(np.array(fid_cnn_list)),\n",
        "    \"FID CNN Std\" : np.std(np.array(fid_cnn_list)),\n",
        "    \"IS CNN Mean\" : np.mean(np.array(is_cnn_list)),\n",
        "    \"IS CNN Std\" : np.std(np.array(is_cnn_list))\n",
        "    }\n",
        "\n",
        "# open file for writing, \"w\" is writing\n",
        "w = csv.writer(open(Stats_path, \"w\"))\n",
        "\n",
        "# loop over dictionary keys and values\n",
        "for key, val in diction.items():\n",
        "\n",
        "    # write every key and value to file\n",
        "    w.writerow([key, val])\n"
      ],
      "metadata": {
        "id": "Q_s9To0T9pl1"
      },
      "execution_count": null,
      "outputs": []
    },
    {
      "cell_type": "markdown",
      "source": [
        "# Visualize Generated Images"
      ],
      "metadata": {
        "id": "QObgocd-fl7a"
      }
    },
    {
      "cell_type": "code",
      "source": [
        "from torchvision.utils import save_image\n",
        "all_images = torch.cat(fake_images_list, dim=0)\n",
        "save_image((all_images[:16*]+1)*0.5, \"FashionMNIST_T500_FakeImages.png\", nrow=16)"
      ],
      "metadata": {
        "id": "Ti_nKB-ufkjr"
      },
      "execution_count": null,
      "outputs": []
    }
  ]
}